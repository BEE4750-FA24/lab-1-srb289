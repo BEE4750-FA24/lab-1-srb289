{
  "cells": [
    {
      "cell_type": "markdown",
      "id": "7b030395-ff9d-488b-893a-3f2925d07a29",
      "metadata": {},
      "source": [
        "# BEE 4750 Lab 1: Julia and GitHub Basics\n",
        "\n",
        "**Name**: Sara Buchta\n",
        "\n",
        "**ID**: srb289\n",
        "\n",
        "> **Due Date**\n",
        ">\n",
        "> Wednesday, 8/28/24, 9:00pm\n",
        "\n",
        "## Setup\n",
        "\n",
        "The following code should go at the top of most Julia scripts; it will\n",
        "load the local package environment and install any needed packages. You\n",
        "will see this often and shouldn’t need to touch it."
      ]
    },
    {
      "cell_type": "code",
      "execution_count": 14,
      "id": "2",
      "metadata": {},
      "outputs": [
        {
          "name": "stderr",
          "output_type": "stream",
          "text": [
            "\u001b[32m\u001b[1m  Activating\u001b[22m\u001b[39m project at `c:\\Users\\srbuc\\OneDrive\\Desktop\\lab\\lab-1-srb289`\n"
          ]
        }
      ],
      "source": [
        "import Pkg\n",
        "Pkg.activate(\".\")\n",
        "Pkg.instantiate()"
      ]
    },
    {
      "cell_type": "markdown",
      "id": "b0c0f53b-93bc-4baa-8b0e-bdb58e8ff961",
      "metadata": {},
      "source": [
        "This next cell loads packages which are required for the rest of the\n",
        "code evaluation. In this case, we only need to load the `Plots.jl`\n",
        "plotting package, but you will see others over the course of the\n",
        "semester (and can add more if desired; just make sure that you’ve [added\n",
        "the new packages to the\n",
        "environment](https://viveks.me/environmental-systems-analysis/tutorials/julia-basics.html#package-management)).\n",
        "Standard Julia practice is to load all of the needed packages at the top\n",
        "of the file.\n",
        "\n",
        "> **Warning**\n",
        ">\n",
        "> Loading packages can take a while, especially the first time! Julia\n",
        "> tries to precompile all of the packages you’re using so repeat use is\n",
        "> faster, but this can be quite slow at first."
      ]
    },
    {
      "cell_type": "code",
      "execution_count": 15,
      "id": "4",
      "metadata": {},
      "outputs": [],
      "source": [
        "using Plots"
      ]
    },
    {
      "cell_type": "markdown",
      "id": "6d2bc421-d992-4864-a390-fd6d7820f6c0",
      "metadata": {},
      "source": [
        "## Introduction\n",
        "\n",
        "### Julia\n",
        "\n",
        "Julia is an up-and-coming language, originally developed for scientific\n",
        "programming. While learning a new programming language always has its\n",
        "hiccups, the good news is that if you’ve programmed in a high-level\n",
        "language such as Python or MATLAB, most Julia concepts should look\n",
        "familiar.\n",
        "\n",
        "If you have not successfully set up Julia, follow the instructions in\n",
        "[Tools\n",
        "Setup](https://viveks.me/environmental-systems-analysis/setup.html)\n",
        "and/or ask for help.\n",
        "\n",
        "You can use other editors for this course, but our recommendation is\n",
        "[Visual Studio Code](https://code.visualstudio.com/) with the [Julia\n",
        "extension](https://marketplace.visualstudio.com/items?itemName=julialang.language-julia),\n",
        "which will make life a *lot* simpler! You should have set this up by\n",
        "following the [Tools\n",
        "Setup](https://viveks.me/environmental-systems-analysis/setup.html)\n",
        "instructions, but if not, do so now and/or ask for help.\n",
        "\n",
        "### Jupyter Notebooks\n",
        "\n",
        "Jupyter notebooks integrate text and equations in Markdown with Julia\n",
        "(or Python, or R) code. To do this, Jupyter notebooks consist of two\n",
        "types of “cells”: code cells and Markdown (text) cells.\n",
        "\n",
        "Click once on this section of text. A box will appear around this text\n",
        "(and some areas above/below it) - all of that is within this cell.\n",
        "\n",
        "Markdown is a text markup framework for formatting language that makes\n",
        "things look pretty when viewed across different platforms: web browsers,\n",
        "notebooks, and so forth. Text written in Markdown can also include\n",
        "hyperlinks, LaTeX equations, section headers, and images, among other\n",
        "features (most of [the course\n",
        "website](https://viveks.me/climate-risk-analysis) and the lecture notes\n",
        "were all written in Markdown!). [Here is a basic Markdown cheat\n",
        "sheet](https://www.markdownguide.org/cheat-sheet/).\n",
        "\n",
        "What you are looking at right now is the formatted text after the\n",
        "Markdown is processed. To see the raw Markdown, do one of:\n",
        "\n",
        "-   press `Enter` while that cell is selected, or\n",
        "-   double-click on that cell.\n",
        "\n",
        "------------------------------------------------------------------------\n",
        "\n",
        "A couple of the features you will see in this Markdown cell:\n",
        "\n",
        "-   The `---` command creates a horizontal line. This is also nice for\n",
        "    separating sections.\n",
        "-   Backticks (`` `...` ``) can be used to format and highlight code,\n",
        "    keystrokes, etc.\n",
        "-   The `#` sign is used to create a new section header; two `#` signs\n",
        "    (`##`) is used to create a new subsection header; `###` creates a\n",
        "    subsubsection, and so on.\n",
        "-   You can create a bulleted list by using the asterisk `*` or a dash\n",
        "    `-` and a space.\n",
        "-   You can create regular text by just typing as usual.\n",
        "-   You can create **bold-faced text** by wrapping it with two asterisks\n",
        "    on both sides.\n",
        "-   You can create *italicized text* by wrapping it with a single\n",
        "    asterisk on both sides.\n",
        "-   To create a new paragraph, you must include a blank line between the\n",
        "    old and new paragraphs.\n",
        "\n",
        "At this point you might be wondering how to turn this cell back into the\n",
        "fully formatted Markdown text instead of the raw Markdown you’re\n",
        "probably still looking at. You have a couple of options, depending on\n",
        "your platform, but the most consistent is to type `Shift + Enter` to\n",
        "**execute** the cell (this is also how to run code, but more on that\n",
        "later).\n",
        "\n",
        "Additionally, you will frequently need to create new cells in your\n",
        "Jupyter notebooks. How you do this will depend on how you interact with\n",
        "the notebook, but try to figure this out now.\n",
        "\n",
        "One tip is to think carefully about what bits of code should be in the\n",
        "same cell, as you typically only see output from the last command in a\n",
        "cell. For example, compare the following:"
      ]
    },
    {
      "cell_type": "code",
      "execution_count": 16,
      "id": "6",
      "metadata": {},
      "outputs": [
        {
          "data": {
            "text/plain": [
              "-0.9589242746631385"
            ]
          },
          "metadata": {},
          "output_type": "display_data"
        }
      ],
      "source": [
        "x = 5\n",
        "sin(x)"
      ]
    },
    {
      "cell_type": "markdown",
      "id": "0b56a2f1-81e8-4426-b62a-95cfc3933b92",
      "metadata": {},
      "source": [
        "with"
      ]
    },
    {
      "cell_type": "code",
      "execution_count": 17,
      "id": "8",
      "metadata": {},
      "outputs": [
        {
          "data": {
            "text/plain": [
              "5"
            ]
          },
          "metadata": {},
          "output_type": "display_data"
        }
      ],
      "source": [
        "x = 5"
      ]
    },
    {
      "cell_type": "code",
      "execution_count": 18,
      "id": "10",
      "metadata": {},
      "outputs": [
        {
          "data": {
            "text/plain": [
              "-0.9589242746631385"
            ]
          },
          "metadata": {},
          "output_type": "display_data"
        }
      ],
      "source": [
        "sin(x)"
      ]
    },
    {
      "cell_type": "markdown",
      "id": "474d541d-93e6-47e1-874f-80abd6c9d7cc",
      "metadata": {},
      "source": [
        "In Julia, you can also suppress the output of a command with a\n",
        "semi-colon:"
      ]
    },
    {
      "cell_type": "code",
      "execution_count": 19,
      "id": "12",
      "metadata": {},
      "outputs": [],
      "source": [
        "sin(x);"
      ]
    },
    {
      "cell_type": "markdown",
      "id": "e5950d08-d04e-4fc7-bed8-33e0ee9a1909",
      "metadata": {},
      "source": [
        "which can help if you want to split some code out for clarity or to\n",
        "insert some text prior to it, but don’t want to clutter the notebook\n",
        "with its output.\n",
        "\n",
        "For code cells, to execute the commands within the cell, we also press\n",
        "`Shift+Enter`.\n",
        "\n",
        "Finally, **make sure that you evaluate all of the code cells in order\n",
        "before submitting**. One bad outcome with notebooks occurs when cells\n",
        "are evaluated out of order, so fixed bugs and edits in previous cells do\n",
        "not get a chance to propagate down. You can do this with the `Run All`\n",
        "command in whichever interface you’re using to edit your notebook.\n",
        "\n",
        "### Julia Basics\n",
        "\n",
        "There are many tutorials and references for Julia, including a [basics\n",
        "overview on the class website](../tutorials/julia-basics.html). Please\n",
        "feel free to reference these as you work through any part of the course.\n",
        "\n",
        "### Formatting Math\n",
        "\n",
        "It will often be helpful to include nicely-formatted mathematics in a\n",
        "notebook. Markdown accomodates this using LaTeX syntax. A LaTeX\n",
        "cheatsheet is available on the class website, and many other guides\n",
        "exist online.\n",
        "\n",
        "Below is an example of a formatted equation: $$x = 5.$$\n",
        "\n",
        "### Looking For Help\n",
        "\n",
        "There is no shame in using Google, or other resources, for help when\n",
        "programming. There are many, many times when you can’t quite get the\n",
        "syntax to work, can’t quite figure out the right package or command to\n",
        "use, or are feeling too lazy or overwhelmed (I’m not judging either of\n",
        "those!) to dig through the documentation. Some good resources include:\n",
        "\n",
        "-   [Stack Overflow](https://stackoverflow.com/) is a treasure trove of\n",
        "    answers;\n",
        "-   The [official Julia forum](https://discourse.julialang.org/) and the\n",
        "    [Julia Subreddit](https://www.reddit.com/r/Julia/) are also very\n",
        "    useful.\n",
        "\n",
        "You are also highly encouraged to post on [Ed\n",
        "Discussion](https://us.edstem.org), though getting a response might be\n",
        "less immediate. Just be mindful that to get good answers, [you have to\n",
        "help people help you](https://stackoverflow.com/help/how-to-ask), and\n",
        "**make sure to give credit to any resources that were helpful**!\n",
        "\n",
        "## Exercises (3 points)\n",
        "\n",
        "Use your understanding of Julia syntax and the GitHub workflow to\n",
        "complete the following (hopefully short) exercises. Convert your\n",
        "completed lab assignment to a PDF and submit it to the Gradescope\n",
        "Assignment “Lab 1”.\n",
        "\n",
        "**Remember to**:\n",
        "\n",
        "-   Include a (succint but clear) writeup of the core idea underlying\n",
        "    your code, through some combination of equations, text, and\n",
        "    algorithms. As you are not required to submit your code, we will not\n",
        "    be looking at it in detail, and instead will rely on those writeups\n",
        "    to assess whether your approach is correct.\n",
        "-   If using the notebook, evaluate all of your code cells, in order\n",
        "    (using a `Run All` command). This will make sure all output is\n",
        "    visible and that the code cells were evaluated in the correct order.\n",
        "-   Tag each of the problems when you submit to Gradescope; a 10%\n",
        "    penalty will be deducted if this is not done.\n",
        "\n",
        "### Computing a Dot Product\n",
        "\n",
        "Given two numeric arrays `x` and `y`, write a function to compute their\n",
        "dot product if they have equal length, and return an error if not (this\n",
        "is useful for debugging!). Use the following code as a starting point."
      ]
    },
    {
      "cell_type": "code",
      "execution_count": 20,
      "id": "14",
      "metadata": {},
      "outputs": [
        {
          "data": {
            "text/plain": [
              "dot_product (generic function with 1 method)"
            ]
          },
          "metadata": {},
          "output_type": "display_data"
        }
      ],
      "source": [
        "function dot_product(x, y)\n",
        "    if length(x) == length(y)\n",
        "        output = 0\n",
        "        for i in 1:length(x)\n",
        "            output = output + (x[i] * y[i])\n",
        "        end\n",
        "        return(output)\n",
        "    else\n",
        "        throw(DimensionMismatch(\"length of x not equal to length of y\"))\n",
        "    end\n",
        "end"
      ]
    },
    {
      "cell_type": "markdown",
      "id": "e0ce47a6-a5e8-4cd8-a776-5b04adfa6330",
      "metadata": {},
      "source": [
        "Here are some tests to make sure your code works as intended. Tests like\n",
        "these are useful to make sure everything works as intended. One reason\n",
        "to split your code up into functions is that it makes it straightforward\n",
        "to write tests to make sure each piece of your code works, which makes\n",
        "it easier to identify where errors are occuring."
      ]
    },
    {
      "cell_type": "code",
      "execution_count": 21,
      "id": "16",
      "metadata": {},
      "outputs": [
        {
          "data": {
            "text/plain": [
              "32"
            ]
          },
          "metadata": {},
          "output_type": "display_data"
        }
      ],
      "source": [
        "dot_product([1 2 3], [4 5 6])"
      ]
    },
    {
      "cell_type": "markdown",
      "id": "37f85171-25e8-4513-b57c-af25ff4378e7",
      "metadata": {},
      "source": [
        "If you know the value you should get, you can write a more formal test\n",
        "using the `@assert` macro, which is a good way to “automate” checking\n",
        "(since you get an obvious error if the code doesn’t work as desired):"
      ]
    },
    {
      "cell_type": "code",
      "execution_count": 22,
      "id": "18",
      "metadata": {},
      "outputs": [],
      "source": [
        "@assert dot_product([1 2 3], [4 5 6]) == 32"
      ]
    },
    {
      "cell_type": "markdown",
      "id": "65ccdcd8-449e-4f0c-8f4e-7953ea267f8d",
      "metadata": {},
      "source": [
        "Let’s also make sure we get an error when the dimensions of the two\n",
        "vectors don’t match:"
      ]
    },
    {
      "cell_type": "code",
      "execution_count": 23,
      "id": "20",
      "metadata": {},
      "outputs": [
        {
          "ename": "DimensionMismatch",
          "evalue": "DimensionMismatch: length of x not equal to length of y",
          "output_type": "error",
          "traceback": [
            "DimensionMismatch: length of x not equal to length of y\n",
            "\n",
            "Stacktrace:\n",
            " [1] dot_product(x::Matrix{Int64}, y::Matrix{Int64})\n",
            "   @ Main c:\\Users\\srbuc\\OneDrive\\Desktop\\lab\\lab-1-srb289\\jl_notebook_cell_df34fa98e69747e1a8f8a730347b8e2f_X15sZmlsZQ==.jl:9\n",
            " [2] top-level scope\n",
            "   @ c:\\Users\\srbuc\\OneDrive\\Desktop\\lab\\lab-1-srb289\\jl_notebook_cell_df34fa98e69747e1a8f8a730347b8e2f_X24sZmlsZQ==.jl:1"
          ]
        }
      ],
      "source": [
        "dot_product([1 2 3], [4 5])"
      ]
    },
    {
      "cell_type": "markdown",
      "id": "8c069a05-159a-43b4-aa3f-d1fec9a2f727",
      "metadata": {},
      "source": [
        "### Making a Plot\n",
        "\n",
        "Write a function to compute the square of an integer `x`. Evaluate this\n",
        "function for integers between $x=-5$ and $x=5$ and make a plot of the\n",
        "squared values (you can find a quick guide to making various types of\n",
        "plots\n",
        "[here](https://viveks.me/environmental-systems-analysis/tutorials/julia-plots.html)).\n",
        "Make sure to label your axes."
      ]
    },
    {
      "cell_type": "code",
      "execution_count": 24,
      "id": "0d572ba6",
      "metadata": {},
      "outputs": [
        {
          "data": {
            "text/plain": [
              "square (generic function with 1 method)"
            ]
          },
          "metadata": {},
          "output_type": "display_data"
        }
      ],
      "source": [
        "function square(x)\n",
        "    return(x*x)\n",
        "end\n"
      ]
    },
    {
      "cell_type": "code",
      "execution_count": 25,
      "id": "42e4ce3c",
      "metadata": {},
      "outputs": [],
      "source": [
        "l = -5:5\n",
        "squares = zeros(11)\n",
        "for i in 1:length(l)\n",
        "    squares[i] = square(l[i])\n",
        "end"
      ]
    },
    {
      "cell_type": "code",
      "execution_count": 26,
      "id": "3ae41dbb",
      "metadata": {},
      "outputs": [
        {
          "data": {
            "image/png": "[encoded data removed]",
            "image/svg+xml": [
              "<?xml version=\"1.0\" encoding=\"utf-8\"?>\n",
              "<svg xmlns=\"http://www.w3.org/2000/svg\" xmlns:xlink=\"http://www.w3.org/1999/xlink\" width=\"600\" height=\"400\" viewBox=\"0 0 2400 1600\">\n",
              "<defs>\n",
              "  <clipPath id=\"clip090\">\n",
              "    <rect x=\"0\" y=\"0\" width=\"2400\" height=\"1600\"/>\n",
              "  </clipPath>\n",
              "</defs>\n",
              "<path clip-path=\"url(#clip090)\" d=\"M0 1600 L2400 1600 L2400 0 L0 0  Z\" fill=\"#ffffff\" fill-rule=\"evenodd\" fill-opacity=\"1\"/>\n",
              "<defs>\n",
              "  <clipPath id=\"clip091\">\n",
              "    <rect x=\"480\" y=\"0\" width=\"1681\" height=\"1600\"/>\n",
              "  </clipPath>\n",
              "</defs>\n",
              "<path clip-path=\"url(#clip090)\" d=\"M203.964 1423.18 L2352.76 1423.18 L2352.76 123.472 L203.964 123.472  Z\" fill=\"#ffffff\" fill-rule=\"evenodd\" fill-opacity=\"1\"/>\n",
              "<defs>\n",
              "  <clipPath id=\"clip092\">\n",
              "    <rect x=\"203\" y=\"123\" width=\"2150\" height=\"1301\"/>\n",
              "  </clipPath>\n",
              "</defs>\n",
              "<polyline clip-path=\"url(#clip092)\" style=\"stroke:#000000; stroke-linecap:round; stroke-linejoin:round; stroke-width:2; stroke-opacity:0.1; fill:none\" points=\"467.495,1423.18 467.495,123.472 \"/>\n",
              "<polyline clip-path=\"url(#clip092)\" style=\"stroke:#000000; stroke-linecap:round; stroke-linejoin:round; stroke-width:2; stroke-opacity:0.1; fill:none\" points=\"872.927,1423.18 872.927,123.472 \"/>\n",
              "<polyline clip-path=\"url(#clip092)\" style=\"stroke:#000000; stroke-linecap:round; stroke-linejoin:round; stroke-width:2; stroke-opacity:0.1; fill:none\" points=\"1278.36,1423.18 1278.36,123.472 \"/>\n",
              "<polyline clip-path=\"url(#clip092)\" style=\"stroke:#000000; stroke-linecap:round; stroke-linejoin:round; stroke-width:2; stroke-opacity:0.1; fill:none\" points=\"1683.79,1423.18 1683.79,123.472 \"/>\n",
              "<polyline clip-path=\"url(#clip092)\" style=\"stroke:#000000; stroke-linecap:round; stroke-linejoin:round; stroke-width:2; stroke-opacity:0.1; fill:none\" points=\"2089.22,1423.18 2089.22,123.472 \"/>\n",
              "<polyline clip-path=\"url(#clip090)\" style=\"stroke:#000000; stroke-linecap:round; stroke-linejoin:round; stroke-width:4; stroke-opacity:1; fill:none\" points=\"203.964,1423.18 2352.76,1423.18 \"/>\n",
              "<polyline clip-path=\"url(#clip090)\" style=\"stroke:#000000; stroke-linecap:round; stroke-linejoin:round; stroke-width:4; stroke-opacity:1; fill:none\" points=\"467.495,1423.18 467.495,1404.28 \"/>\n",
              "<polyline clip-path=\"url(#clip090)\" style=\"stroke:#000000; stroke-linecap:round; stroke-linejoin:round; stroke-width:4; stroke-opacity:1; fill:none\" points=\"872.927,1423.18 872.927,1404.28 \"/>\n",
              "<polyline clip-path=\"url(#clip090)\" style=\"stroke:#000000; stroke-linecap:round; stroke-linejoin:round; stroke-width:4; stroke-opacity:1; fill:none\" points=\"1278.36,1423.18 1278.36,1404.28 \"/>\n",
              "<polyline clip-path=\"url(#clip090)\" style=\"stroke:#000000; stroke-linecap:round; stroke-linejoin:round; stroke-width:4; stroke-opacity:1; fill:none\" points=\"1683.79,1423.18 1683.79,1404.28 \"/>\n",
              "<polyline clip-path=\"url(#clip090)\" style=\"stroke:#000000; stroke-linecap:round; stroke-linejoin:round; stroke-width:4; stroke-opacity:1; fill:none\" points=\"2089.22,1423.18 2089.22,1404.28 \"/>\n",
              "<path clip-path=\"url(#clip090)\" d=\"M436.395 1468.75 L466.071 1468.75 L466.071 1472.69 L436.395 1472.69 L436.395 1468.75 Z\" fill=\"#000000\" fill-rule=\"nonzero\" fill-opacity=\"1\" /><path clip-path=\"url(#clip090)\" d=\"M489.011 1455.09 L477.205 1473.54 L489.011 1473.54 L489.011 1455.09 M487.784 1451.02 L493.664 1451.02 L493.664 1473.54 L498.594 1473.54 L498.594 1477.43 L493.664 1477.43 L493.664 1485.58 L489.011 1485.58 L489.011 1477.43 L473.409 1477.43 L473.409 1472.92 L487.784 1451.02 Z\" fill=\"#000000\" fill-rule=\"nonzero\" fill-opacity=\"1\" /><path clip-path=\"url(#clip090)\" d=\"M842.87 1468.75 L872.545 1468.75 L872.545 1472.69 L842.87 1472.69 L842.87 1468.75 Z\" fill=\"#000000\" fill-rule=\"nonzero\" fill-opacity=\"1\" /><path clip-path=\"url(#clip090)\" d=\"M886.666 1481.64 L902.985 1481.64 L902.985 1485.58 L881.041 1485.58 L881.041 1481.64 Q883.703 1478.89 888.286 1474.26 Q892.892 1469.61 894.073 1468.27 Q896.318 1465.74 897.198 1464.01 Q898.101 1462.25 898.101 1460.56 Q898.101 1457.8 896.156 1456.07 Q894.235 1454.33 891.133 1454.33 Q888.934 1454.33 886.48 1455.09 Q884.05 1455.86 881.272 1457.41 L881.272 1452.69 Q884.096 1451.55 886.55 1450.97 Q889.004 1450.39 891.041 1450.39 Q896.411 1450.39 899.605 1453.08 Q902.8 1455.77 902.8 1460.26 Q902.8 1462.39 901.99 1464.31 Q901.203 1466.2 899.096 1468.8 Q898.517 1469.47 895.416 1472.69 Q892.314 1475.88 886.666 1481.64 Z\" fill=\"#000000\" fill-rule=\"nonzero\" fill-opacity=\"1\" /><path clip-path=\"url(#clip090)\" d=\"M1278.36 1454.1 Q1274.75 1454.1 1272.92 1457.66 Q1271.11 1461.2 1271.11 1468.33 Q1271.11 1475.44 1272.92 1479.01 Q1274.75 1482.55 1278.36 1482.55 Q1281.99 1482.55 1283.8 1479.01 Q1285.63 1475.44 1285.63 1468.33 Q1285.63 1461.2 1283.8 1457.66 Q1281.99 1454.1 1278.36 1454.1 M1278.36 1450.39 Q1284.17 1450.39 1287.23 1455 Q1290.3 1459.58 1290.3 1468.33 Q1290.3 1477.06 1287.23 1481.67 Q1284.17 1486.25 1278.36 1486.25 Q1272.55 1486.25 1269.47 1481.67 Q1266.42 1477.06 1266.42 1468.33 Q1266.42 1459.58 1269.47 1455 Q1272.55 1450.39 1278.36 1450.39 Z\" fill=\"#000000\" fill-rule=\"nonzero\" fill-opacity=\"1\" /><path clip-path=\"url(#clip090)\" d=\"M1678.45 1481.64 L1694.76 1481.64 L1694.76 1485.58 L1672.82 1485.58 L1672.82 1481.64 Q1675.48 1478.89 1680.07 1474.26 Q1684.67 1469.61 1685.85 1468.27 Q1688.1 1465.74 1688.98 1464.01 Q1689.88 1462.25 1689.88 1460.56 Q1689.88 1457.8 1687.94 1456.07 Q1686.01 1454.33 1682.91 1454.33 Q1680.71 1454.33 1678.26 1455.09 Q1675.83 1455.86 1673.05 1457.41 L1673.05 1452.69 Q1675.88 1451.55 1678.33 1450.97 Q1680.78 1450.39 1682.82 1450.39 Q1688.19 1450.39 1691.38 1453.08 Q1694.58 1455.77 1694.58 1460.26 Q1694.58 1462.39 1693.77 1464.31 Q1692.98 1466.2 1690.88 1468.8 Q1690.3 1469.47 1687.2 1472.69 Q1684.09 1475.88 1678.45 1481.64 Z\" fill=\"#000000\" fill-rule=\"nonzero\" fill-opacity=\"1\" /><path clip-path=\"url(#clip090)\" d=\"M2092.23 1455.09 L2080.43 1473.54 L2092.23 1473.54 L2092.23 1455.09 M2091.01 1451.02 L2096.89 1451.02 L2096.89 1473.54 L2101.82 1473.54 L2101.82 1477.43 L2096.89 1477.43 L2096.89 1485.58 L2092.23 1485.58 L2092.23 1477.43 L2076.63 1477.43 L2076.63 1472.92 L2091.01 1451.02 Z\" fill=\"#000000\" fill-rule=\"nonzero\" fill-opacity=\"1\" /><path clip-path=\"url(#clip090)\" d=\"M1148.93 1520.52 L1155.36 1520.52 L1155.36 1568.04 L1148.93 1568.04 L1148.93 1520.52 Z\" fill=\"#000000\" fill-rule=\"nonzero\" fill-opacity=\"1\" /><path clip-path=\"url(#clip090)\" d=\"M1197.53 1546.53 L1197.53 1568.04 L1191.67 1568.04 L1191.67 1546.72 Q1191.67 1541.66 1189.7 1539.14 Q1187.73 1536.63 1183.78 1536.63 Q1179.04 1536.63 1176.3 1539.65 Q1173.56 1542.68 1173.56 1547.9 L1173.56 1568.04 L1167.68 1568.04 L1167.68 1532.4 L1173.56 1532.4 L1173.56 1537.93 Q1175.66 1534.72 1178.5 1533.13 Q1181.36 1531.54 1185.09 1531.54 Q1191.23 1531.54 1194.38 1535.36 Q1197.53 1539.14 1197.53 1546.53 Z\" fill=\"#000000\" fill-rule=\"nonzero\" fill-opacity=\"1\" /><path clip-path=\"url(#clip090)\" d=\"M1215.01 1522.27 L1215.01 1532.4 L1227.07 1532.4 L1227.07 1536.95 L1215.01 1536.95 L1215.01 1556.3 Q1215.01 1560.66 1216.18 1561.9 Q1217.39 1563.14 1221.05 1563.14 L1227.07 1563.14 L1227.07 1568.04 L1221.05 1568.04 Q1214.27 1568.04 1211.69 1565.53 Q1209.12 1562.98 1209.12 1556.3 L1209.12 1536.95 L1204.82 1536.95 L1204.82 1532.4 L1209.12 1532.4 L1209.12 1522.27 L1215.01 1522.27 Z\" fill=\"#000000\" fill-rule=\"nonzero\" fill-opacity=\"1\" /><path clip-path=\"url(#clip090)\" d=\"M1265.26 1548.76 L1265.26 1551.62 L1238.34 1551.62 Q1238.72 1557.67 1241.96 1560.85 Q1245.24 1564 1251.07 1564 Q1254.44 1564 1257.59 1563.17 Q1260.77 1562.35 1263.89 1560.69 L1263.89 1566.23 Q1260.74 1567.57 1257.43 1568.27 Q1254.12 1568.97 1250.72 1568.97 Q1242.19 1568.97 1237.19 1564 Q1232.22 1559.04 1232.22 1550.57 Q1232.22 1541.82 1236.93 1536.69 Q1241.68 1531.54 1249.7 1531.54 Q1256.89 1531.54 1261.06 1536.18 Q1265.26 1540.8 1265.26 1548.76 M1259.41 1547.04 Q1259.34 1542.23 1256.7 1539.37 Q1254.09 1536.5 1249.76 1536.5 Q1244.86 1536.5 1241.9 1539.27 Q1238.97 1542.04 1238.53 1547.07 L1259.41 1547.04 Z\" fill=\"#000000\" fill-rule=\"nonzero\" fill-opacity=\"1\" /><path clip-path=\"url(#clip090)\" d=\"M1298.33 1549.81 Q1298.33 1543.44 1295.69 1539.94 Q1293.08 1536.44 1288.34 1536.44 Q1283.63 1536.44 1280.99 1539.94 Q1278.38 1543.44 1278.38 1549.81 Q1278.38 1556.14 1280.99 1559.64 Q1283.63 1563.14 1288.34 1563.14 Q1293.08 1563.14 1295.69 1559.64 Q1298.33 1556.14 1298.33 1549.81 M1304.19 1563.62 Q1304.19 1572.72 1300.15 1577.15 Q1296.1 1581.6 1287.77 1581.6 Q1284.68 1581.6 1281.94 1581.13 Q1279.2 1580.68 1276.63 1579.72 L1276.63 1574.03 Q1279.2 1575.43 1281.72 1576.1 Q1284.23 1576.76 1286.84 1576.76 Q1292.6 1576.76 1295.47 1573.74 Q1298.33 1570.75 1298.33 1564.67 L1298.33 1561.77 Q1296.52 1564.92 1293.69 1566.48 Q1290.85 1568.04 1286.91 1568.04 Q1280.35 1568.04 1276.34 1563.05 Q1272.33 1558.05 1272.33 1549.81 Q1272.33 1541.53 1276.34 1536.53 Q1280.35 1531.54 1286.91 1531.54 Q1290.85 1531.54 1293.69 1533.1 Q1296.52 1534.66 1298.33 1537.81 L1298.33 1532.4 L1304.19 1532.4 L1304.19 1563.62 Z\" fill=\"#000000\" fill-rule=\"nonzero\" fill-opacity=\"1\" /><path clip-path=\"url(#clip090)\" d=\"M1346.74 1548.76 L1346.74 1551.62 L1319.82 1551.62 Q1320.2 1557.67 1323.44 1560.85 Q1326.72 1564 1332.55 1564 Q1335.92 1564 1339.07 1563.17 Q1342.26 1562.35 1345.37 1560.69 L1345.37 1566.23 Q1342.22 1567.57 1338.91 1568.27 Q1335.6 1568.97 1332.2 1568.97 Q1323.67 1568.97 1318.67 1564 Q1313.71 1559.04 1313.71 1550.57 Q1313.71 1541.82 1318.42 1536.69 Q1323.16 1531.54 1331.18 1531.54 Q1338.37 1531.54 1342.54 1536.18 Q1346.74 1540.8 1346.74 1548.76 M1340.89 1547.04 Q1340.82 1542.23 1338.18 1539.37 Q1335.57 1536.5 1331.24 1536.5 Q1326.34 1536.5 1323.38 1539.27 Q1320.45 1542.04 1320.01 1547.07 L1340.89 1547.04 Z\" fill=\"#000000\" fill-rule=\"nonzero\" fill-opacity=\"1\" /><path clip-path=\"url(#clip090)\" d=\"M1377.01 1537.87 Q1376.03 1537.3 1374.85 1537.04 Q1373.7 1536.76 1372.3 1536.76 Q1367.34 1536.76 1364.66 1540 Q1362.02 1543.22 1362.02 1549.27 L1362.02 1568.04 L1356.13 1568.04 L1356.13 1532.4 L1362.02 1532.4 L1362.02 1537.93 Q1363.87 1534.69 1366.83 1533.13 Q1369.79 1531.54 1374.02 1531.54 Q1374.63 1531.54 1375.36 1531.63 Q1376.09 1531.7 1376.98 1531.85 L1377.01 1537.87 Z\" fill=\"#000000\" fill-rule=\"nonzero\" fill-opacity=\"1\" /><path clip-path=\"url(#clip090)\" d=\"M1405.88 1533.45 L1405.88 1538.98 Q1403.4 1537.71 1400.72 1537.07 Q1398.05 1536.44 1395.19 1536.44 Q1390.83 1536.44 1388.63 1537.77 Q1386.47 1539.11 1386.47 1541.79 Q1386.47 1543.82 1388.02 1545 Q1389.58 1546.15 1394.3 1547.2 L1396.3 1547.64 Q1402.54 1548.98 1405.15 1551.43 Q1407.79 1553.85 1407.79 1558.21 Q1407.79 1563.17 1403.84 1566.07 Q1399.93 1568.97 1393.05 1568.97 Q1390.19 1568.97 1387.07 1568.39 Q1383.98 1567.85 1380.55 1566.74 L1380.55 1560.69 Q1383.79 1562.38 1386.94 1563.24 Q1390.09 1564.07 1393.18 1564.07 Q1397.32 1564.07 1399.55 1562.66 Q1401.77 1561.23 1401.77 1558.65 Q1401.77 1556.27 1400.15 1554.99 Q1398.56 1553.72 1393.12 1552.54 L1391.08 1552.07 Q1385.64 1550.92 1383.22 1548.56 Q1380.8 1546.18 1380.8 1542.04 Q1380.8 1537.01 1384.36 1534.27 Q1387.93 1531.54 1394.49 1531.54 Q1397.73 1531.54 1400.6 1532.01 Q1403.46 1532.49 1405.88 1533.45 Z\" fill=\"#000000\" fill-rule=\"nonzero\" fill-opacity=\"1\" /><polyline clip-path=\"url(#clip092)\" style=\"stroke:#000000; stroke-linecap:round; stroke-linejoin:round; stroke-width:2; stroke-opacity:0.1; fill:none\" points=\"203.964,1386.4 2352.76,1386.4 \"/>\n",
              "<polyline clip-path=\"url(#clip092)\" style=\"stroke:#000000; stroke-linecap:round; stroke-linejoin:round; stroke-width:2; stroke-opacity:0.1; fill:none\" points=\"203.964,1141.17 2352.76,1141.17 \"/>\n",
              "<polyline clip-path=\"url(#clip092)\" style=\"stroke:#000000; stroke-linecap:round; stroke-linejoin:round; stroke-width:2; stroke-opacity:0.1; fill:none\" points=\"203.964,895.94 2352.76,895.94 \"/>\n",
              "<polyline clip-path=\"url(#clip092)\" style=\"stroke:#000000; stroke-linecap:round; stroke-linejoin:round; stroke-width:2; stroke-opacity:0.1; fill:none\" points=\"203.964,650.712 2352.76,650.712 \"/>\n",
              "<polyline clip-path=\"url(#clip092)\" style=\"stroke:#000000; stroke-linecap:round; stroke-linejoin:round; stroke-width:2; stroke-opacity:0.1; fill:none\" points=\"203.964,405.484 2352.76,405.484 \"/>\n",
              "<polyline clip-path=\"url(#clip092)\" style=\"stroke:#000000; stroke-linecap:round; stroke-linejoin:round; stroke-width:2; stroke-opacity:0.1; fill:none\" points=\"203.964,160.256 2352.76,160.256 \"/>\n",
              "<polyline clip-path=\"url(#clip090)\" style=\"stroke:#000000; stroke-linecap:round; stroke-linejoin:round; stroke-width:4; stroke-opacity:1; fill:none\" points=\"203.964,1423.18 203.964,123.472 \"/>\n",
              "<polyline clip-path=\"url(#clip090)\" style=\"stroke:#000000; stroke-linecap:round; stroke-linejoin:round; stroke-width:4; stroke-opacity:1; fill:none\" points=\"203.964,1386.4 222.861,1386.4 \"/>\n",
              "<polyline clip-path=\"url(#clip090)\" style=\"stroke:#000000; stroke-linecap:round; stroke-linejoin:round; stroke-width:4; stroke-opacity:1; fill:none\" points=\"203.964,1141.17 222.861,1141.17 \"/>\n",
              "<polyline clip-path=\"url(#clip090)\" style=\"stroke:#000000; stroke-linecap:round; stroke-linejoin:round; stroke-width:4; stroke-opacity:1; fill:none\" points=\"203.964,895.94 222.861,895.94 \"/>\n",
              "<polyline clip-path=\"url(#clip090)\" style=\"stroke:#000000; stroke-linecap:round; stroke-linejoin:round; stroke-width:4; stroke-opacity:1; fill:none\" points=\"203.964,650.712 222.861,650.712 \"/>\n",
              "<polyline clip-path=\"url(#clip090)\" style=\"stroke:#000000; stroke-linecap:round; stroke-linejoin:round; stroke-width:4; stroke-opacity:1; fill:none\" points=\"203.964,405.484 222.861,405.484 \"/>\n",
              "<polyline clip-path=\"url(#clip090)\" style=\"stroke:#000000; stroke-linecap:round; stroke-linejoin:round; stroke-width:4; stroke-opacity:1; fill:none\" points=\"203.964,160.256 222.861,160.256 \"/>\n",
              "<path clip-path=\"url(#clip090)\" d=\"M156.019 1372.19 Q152.408 1372.19 150.579 1375.76 Q148.774 1379.3 148.774 1386.43 Q148.774 1393.54 150.579 1397.1 Q152.408 1400.64 156.019 1400.64 Q159.653 1400.64 161.459 1397.1 Q163.288 1393.54 163.288 1386.43 Q163.288 1379.3 161.459 1375.76 Q159.653 1372.19 156.019 1372.19 M156.019 1368.49 Q161.829 1368.49 164.885 1373.1 Q167.964 1377.68 167.964 1386.43 Q167.964 1395.16 164.885 1399.76 Q161.829 1404.35 156.019 1404.35 Q150.209 1404.35 147.13 1399.76 Q144.075 1395.16 144.075 1386.43 Q144.075 1377.68 147.13 1373.1 Q150.209 1368.49 156.019 1368.49 Z\" fill=\"#000000\" fill-rule=\"nonzero\" fill-opacity=\"1\" /><path clip-path=\"url(#clip090)\" d=\"M147.061 1123.89 L165.417 1123.89 L165.417 1127.82 L151.343 1127.82 L151.343 1136.3 Q152.362 1135.95 153.38 1135.79 Q154.399 1135.6 155.417 1135.6 Q161.204 1135.6 164.584 1138.77 Q167.964 1141.94 167.964 1147.36 Q167.964 1152.94 164.491 1156.04 Q161.019 1159.12 154.7 1159.12 Q152.524 1159.12 150.255 1158.75 Q148.01 1158.38 145.603 1157.64 L145.603 1152.94 Q147.686 1154.07 149.908 1154.63 Q152.13 1155.18 154.607 1155.18 Q158.612 1155.18 160.95 1153.08 Q163.288 1150.97 163.288 1147.36 Q163.288 1143.75 160.95 1141.64 Q158.612 1139.54 154.607 1139.54 Q152.732 1139.54 150.857 1139.95 Q149.005 1140.37 147.061 1141.25 L147.061 1123.89 Z\" fill=\"#000000\" fill-rule=\"nonzero\" fill-opacity=\"1\" /><path clip-path=\"url(#clip090)\" d=\"M116.668 909.285 L124.306 909.285 L124.306 882.919 L115.996 884.586 L115.996 880.327 L124.26 878.66 L128.936 878.66 L128.936 909.285 L136.575 909.285 L136.575 913.22 L116.668 913.22 L116.668 909.285 Z\" fill=\"#000000\" fill-rule=\"nonzero\" fill-opacity=\"1\" /><path clip-path=\"url(#clip090)\" d=\"M156.019 881.739 Q152.408 881.739 150.579 885.303 Q148.774 888.845 148.774 895.975 Q148.774 903.081 150.579 906.646 Q152.408 910.188 156.019 910.188 Q159.653 910.188 161.459 906.646 Q163.288 903.081 163.288 895.975 Q163.288 888.845 161.459 885.303 Q159.653 881.739 156.019 881.739 M156.019 878.035 Q161.829 878.035 164.885 882.641 Q167.964 887.225 167.964 895.975 Q167.964 904.701 164.885 909.308 Q161.829 913.891 156.019 913.891 Q150.209 913.891 147.13 909.308 Q144.075 904.701 144.075 895.975 Q144.075 887.225 147.13 882.641 Q150.209 878.035 156.019 878.035 Z\" fill=\"#000000\" fill-rule=\"nonzero\" fill-opacity=\"1\" /><path clip-path=\"url(#clip090)\" d=\"M117.663 664.057 L125.302 664.057 L125.302 637.691 L116.992 639.358 L116.992 635.099 L125.255 633.432 L129.931 633.432 L129.931 664.057 L137.57 664.057 L137.57 667.992 L117.663 667.992 L117.663 664.057 Z\" fill=\"#000000\" fill-rule=\"nonzero\" fill-opacity=\"1\" /><path clip-path=\"url(#clip090)\" d=\"M147.061 633.432 L165.417 633.432 L165.417 637.367 L151.343 637.367 L151.343 645.839 Q152.362 645.492 153.38 645.33 Q154.399 645.145 155.417 645.145 Q161.204 645.145 164.584 648.316 Q167.964 651.488 167.964 656.904 Q167.964 662.483 164.491 665.585 Q161.019 668.663 154.7 668.663 Q152.524 668.663 150.255 668.293 Q148.01 667.923 145.603 667.182 L145.603 662.483 Q147.686 663.617 149.908 664.173 Q152.13 664.728 154.607 664.728 Q158.612 664.728 160.95 662.622 Q163.288 660.515 163.288 656.904 Q163.288 653.293 160.95 651.187 Q158.612 649.08 154.607 649.08 Q152.732 649.08 150.857 649.497 Q149.005 649.913 147.061 650.793 L147.061 633.432 Z\" fill=\"#000000\" fill-rule=\"nonzero\" fill-opacity=\"1\" /><path clip-path=\"url(#clip090)\" d=\"M119.885 418.829 L136.204 418.829 L136.204 422.764 L114.26 422.764 L114.26 418.829 Q116.922 416.074 121.505 411.445 Q126.112 406.792 127.292 405.449 Q129.538 402.926 130.417 401.19 Q131.32 399.431 131.32 397.741 Q131.32 394.987 129.376 393.25 Q127.455 391.514 124.353 391.514 Q122.154 391.514 119.7 392.278 Q117.269 393.042 114.492 394.593 L114.492 389.871 Q117.316 388.737 119.769 388.158 Q122.223 387.579 124.26 387.579 Q129.63 387.579 132.825 390.264 Q136.019 392.95 136.019 397.44 Q136.019 399.57 135.209 401.491 Q134.422 403.389 132.316 405.982 Q131.737 406.653 128.635 409.871 Q125.533 413.065 119.885 418.829 Z\" fill=\"#000000\" fill-rule=\"nonzero\" fill-opacity=\"1\" /><path clip-path=\"url(#clip090)\" d=\"M156.019 391.283 Q152.408 391.283 150.579 394.848 Q148.774 398.389 148.774 405.519 Q148.774 412.625 150.579 416.19 Q152.408 419.732 156.019 419.732 Q159.653 419.732 161.459 416.19 Q163.288 412.625 163.288 405.519 Q163.288 398.389 161.459 394.848 Q159.653 391.283 156.019 391.283 M156.019 387.579 Q161.829 387.579 164.885 392.186 Q167.964 396.769 167.964 405.519 Q167.964 414.246 164.885 418.852 Q161.829 423.435 156.019 423.435 Q150.209 423.435 147.13 418.852 Q144.075 414.246 144.075 405.519 Q144.075 396.769 147.13 392.186 Q150.209 387.579 156.019 387.579 Z\" fill=\"#000000\" fill-rule=\"nonzero\" fill-opacity=\"1\" /><path clip-path=\"url(#clip090)\" d=\"M120.88 173.601 L137.2 173.601 L137.2 177.536 L115.256 177.536 L115.256 173.601 Q117.918 170.847 122.501 166.217 Q127.107 161.564 128.288 160.222 Q130.533 157.698 131.413 155.962 Q132.316 154.203 132.316 152.513 Q132.316 149.759 130.371 148.023 Q128.45 146.286 125.348 146.286 Q123.149 146.286 120.695 147.05 Q118.265 147.814 115.487 149.365 L115.487 144.643 Q118.311 143.509 120.765 142.93 Q123.218 142.351 125.255 142.351 Q130.626 142.351 133.82 145.036 Q137.015 147.722 137.015 152.212 Q137.015 154.342 136.204 156.263 Q135.417 158.161 133.311 160.754 Q132.732 161.425 129.63 164.643 Q126.529 167.837 120.88 173.601 Z\" fill=\"#000000\" fill-rule=\"nonzero\" fill-opacity=\"1\" /><path clip-path=\"url(#clip090)\" d=\"M147.061 142.976 L165.417 142.976 L165.417 146.911 L151.343 146.911 L151.343 155.384 Q152.362 155.036 153.38 154.874 Q154.399 154.689 155.417 154.689 Q161.204 154.689 164.584 157.86 Q167.964 161.032 167.964 166.448 Q167.964 172.027 164.491 175.129 Q161.019 178.208 154.7 178.208 Q152.524 178.208 150.255 177.837 Q148.01 177.467 145.603 176.726 L145.603 172.027 Q147.686 173.161 149.908 173.717 Q152.13 174.272 154.607 174.272 Q158.612 174.272 160.95 172.166 Q163.288 170.059 163.288 166.448 Q163.288 162.837 160.95 160.731 Q158.612 158.624 154.607 158.624 Q152.732 158.624 150.857 159.041 Q149.005 159.458 147.061 160.337 L147.061 142.976 Z\" fill=\"#000000\" fill-rule=\"nonzero\" fill-opacity=\"1\" /><path clip-path=\"url(#clip090)\" d=\"M18.0438 870.721 L24.314 870.721 Q22.5634 874.382 21.704 877.628 Q20.8447 880.875 20.8447 883.898 Q20.8447 889.15 22.8817 892.015 Q24.9187 894.847 28.6745 894.847 Q31.8255 894.847 33.4488 892.969 Q35.0402 891.06 36.0269 885.776 L36.8226 881.893 Q38.1912 874.7 41.6605 871.294 Q45.098 867.857 50.8908 867.857 Q57.7976 867.857 61.3624 872.504 Q64.9272 877.119 64.9272 886.063 Q64.9272 889.436 64.1633 893.256 Q63.3994 897.043 61.9035 901.118 L55.2831 901.118 Q57.4793 897.203 58.5933 893.447 Q59.7073 889.691 59.7073 886.063 Q59.7073 880.556 57.543 877.564 Q55.3786 874.573 51.3682 874.573 Q47.8671 874.573 45.8937 876.737 Q43.9204 878.869 42.9337 883.771 L42.1698 887.686 Q40.7375 894.879 37.682 898.094 Q34.6264 901.309 29.1837 901.309 Q22.8817 901.309 19.2532 896.884 Q15.6248 892.428 15.6248 884.63 Q15.6248 881.288 16.2295 877.819 Q16.8343 874.35 18.0438 870.721 Z\" fill=\"#000000\" fill-rule=\"nonzero\" fill-opacity=\"1\" /><path clip-path=\"url(#clip090)\" d=\"M46.212 854.584 Q52.6732 854.584 56.3653 851.942 Q60.0256 849.269 60.0256 844.622 Q60.0256 839.975 56.3653 837.301 Q52.6732 834.628 46.212 834.628 Q39.7508 834.628 36.0905 837.301 Q32.3984 839.975 32.3984 844.622 Q32.3984 849.269 36.0905 851.942 Q39.7508 854.584 46.212 854.584 M58.657 834.628 Q61.8398 836.474 63.3994 839.307 Q64.9272 842.107 64.9272 846.054 Q64.9272 852.515 59.771 856.589 Q54.6147 860.632 46.212 860.632 Q37.8093 860.632 32.6531 856.589 Q27.4968 852.515 27.4968 846.054 Q27.4968 842.107 29.0564 839.307 Q30.5842 836.474 33.7671 834.628 L28.3562 834.628 L28.3562 828.771 L77.5631 828.771 L77.5631 834.628 L58.657 834.628 Z\" fill=\"#000000\" fill-rule=\"nonzero\" fill-opacity=\"1\" /><path clip-path=\"url(#clip090)\" d=\"M49.9359 817.313 L28.3562 817.313 L28.3562 811.457 L49.7131 811.457 Q54.7739 811.457 57.3202 809.483 Q59.8346 807.51 59.8346 803.563 Q59.8346 798.821 56.8109 796.083 Q53.7872 793.314 48.5673 793.314 L28.3562 793.314 L28.3562 787.458 L64.0042 787.458 L64.0042 793.314 L58.5296 793.314 Q61.7762 795.447 63.3676 798.28 Q64.9272 801.08 64.9272 804.804 Q64.9272 810.947 61.1078 814.13 Q57.2883 817.313 49.9359 817.313 M27.4968 802.576 L27.4968 802.576 Z\" fill=\"#000000\" fill-rule=\"nonzero\" fill-opacity=\"1\" /><path clip-path=\"url(#clip090)\" d=\"M46.0847 759.194 Q46.0847 766.292 47.7079 769.029 Q49.3312 771.766 53.2461 771.766 Q56.3653 771.766 58.2114 769.729 Q60.0256 767.661 60.0256 764.128 Q60.0256 759.258 56.5881 756.33 Q53.1188 753.369 47.3897 753.369 L46.0847 753.369 L46.0847 759.194 M43.6657 747.513 L64.0042 747.513 L64.0042 753.369 L58.5933 753.369 Q61.8398 755.375 63.3994 758.367 Q64.9272 761.358 64.9272 765.687 Q64.9272 771.162 61.8716 774.408 Q58.7843 777.623 53.6281 777.623 Q47.6125 777.623 44.5569 773.612 Q41.5014 769.57 41.5014 761.581 L41.5014 753.369 L40.9285 753.369 Q36.8862 753.369 34.6901 756.043 Q32.4621 758.685 32.4621 763.491 Q32.4621 766.547 33.1941 769.443 Q33.9262 772.339 35.3903 775.013 L29.9795 775.013 Q28.7381 771.798 28.1334 768.775 Q27.4968 765.751 27.4968 762.886 Q27.4968 755.152 31.5072 751.332 Q35.5176 747.513 43.6657 747.513 Z\" fill=\"#000000\" fill-rule=\"nonzero\" fill-opacity=\"1\" /><path clip-path=\"url(#clip090)\" d=\"M33.8307 714.793 Q33.2578 715.78 33.0032 716.958 Q32.7167 718.103 32.7167 719.504 Q32.7167 724.469 35.9632 727.143 Q39.1779 729.785 45.2253 729.785 L64.0042 729.785 L64.0042 735.673 L28.3562 735.673 L28.3562 729.785 L33.8944 729.785 Q30.6479 727.938 29.0883 724.978 Q27.4968 722.018 27.4968 717.785 Q27.4968 717.18 27.5923 716.448 Q27.656 715.716 27.8151 714.825 L33.8307 714.793 Z\" fill=\"#000000\" fill-rule=\"nonzero\" fill-opacity=\"1\" /><path clip-path=\"url(#clip090)\" d=\"M44.7161 679.591 L47.5806 679.591 L47.5806 706.518 Q53.6281 706.136 56.8109 702.889 Q59.9619 699.611 59.9619 693.786 Q59.9619 690.413 59.1344 687.262 Q58.3069 684.079 56.6518 680.96 L62.1899 680.96 Q63.5267 684.111 64.227 687.421 Q64.9272 690.731 64.9272 694.137 Q64.9272 702.667 59.9619 707.664 Q54.9967 712.629 46.5303 712.629 Q37.7774 712.629 32.6531 707.918 Q27.4968 703.176 27.4968 695.155 Q27.4968 687.962 32.1438 683.792 Q36.7589 679.591 44.7161 679.591 M42.9973 685.447 Q38.1912 685.511 35.3266 688.153 Q32.4621 690.763 32.4621 695.091 Q32.4621 699.993 35.2312 702.953 Q38.0002 705.881 43.0292 706.327 L42.9973 685.447 Z\" fill=\"#000000\" fill-rule=\"nonzero\" fill-opacity=\"1\" /><path clip-path=\"url(#clip090)\" d=\"M29.4065 647.253 L34.9447 647.253 Q33.6716 649.736 33.035 652.409 Q32.3984 655.083 32.3984 657.948 Q32.3984 662.308 33.7352 664.504 Q35.072 666.669 37.7456 666.669 Q39.7826 666.669 40.9603 665.109 Q42.1061 663.549 43.1565 658.839 L43.6021 656.834 Q44.9389 650.595 47.3897 647.985 Q49.8086 645.343 54.1691 645.343 Q59.1344 645.343 62.0308 649.29 Q64.9272 653.205 64.9272 660.08 Q64.9272 662.945 64.3543 666.064 Q63.8132 669.151 62.6992 672.589 L56.6518 672.589 Q58.3387 669.342 59.198 666.191 Q60.0256 663.04 60.0256 659.953 Q60.0256 655.815 58.6251 653.587 Q57.1929 651.359 54.6147 651.359 Q52.2276 651.359 50.9545 652.982 Q49.6813 654.574 48.5037 660.016 L48.0262 662.053 Q46.8804 667.496 44.5251 669.915 Q42.138 672.334 38.0002 672.334 Q32.9713 672.334 30.2341 668.769 Q27.4968 665.204 27.4968 658.648 Q27.4968 655.401 27.9743 652.537 Q28.4517 649.672 29.4065 647.253 Z\" fill=\"#000000\" fill-rule=\"nonzero\" fill-opacity=\"1\" /><path clip-path=\"url(#clip090)\" d=\"M748.947 12.096 L757.13 12.096 L757.13 72.576 L748.947 72.576 L748.947 12.096 Z\" fill=\"#000000\" fill-rule=\"nonzero\" fill-opacity=\"1\" /><path clip-path=\"url(#clip090)\" d=\"M810.804 45.1919 L810.804 72.576 L803.351 72.576 L803.351 45.4349 Q803.351 38.994 800.839 35.7938 Q798.328 32.5936 793.304 32.5936 Q787.269 32.5936 783.785 36.4419 Q780.301 40.2903 780.301 46.9338 L780.301 72.576 L772.807 72.576 L772.807 27.2059 L780.301 27.2059 L780.301 34.2544 Q782.975 30.163 786.58 28.1376 Q790.226 26.1121 794.965 26.1121 Q802.784 26.1121 806.794 30.9732 Q810.804 35.7938 810.804 45.1919 Z\" fill=\"#000000\" fill-rule=\"nonzero\" fill-opacity=\"1\" /><path clip-path=\"url(#clip090)\" d=\"M833.044 14.324 L833.044 27.2059 L848.397 27.2059 L848.397 32.9987 L833.044 32.9987 L833.044 57.6282 Q833.044 63.1779 834.543 64.7578 Q836.082 66.3376 840.741 66.3376 L848.397 66.3376 L848.397 72.576 L840.741 72.576 Q832.112 72.576 828.831 69.3758 Q825.55 66.1351 825.55 57.6282 L825.55 32.9987 L820.081 32.9987 L820.081 27.2059 L825.55 27.2059 L825.55 14.324 L833.044 14.324 Z\" fill=\"#000000\" fill-rule=\"nonzero\" fill-opacity=\"1\" /><path clip-path=\"url(#clip090)\" d=\"M897.008 48.0275 L897.008 51.6733 L862.737 51.6733 Q863.223 59.3701 867.355 63.421 Q871.527 67.4314 878.941 67.4314 Q883.235 67.4314 887.245 66.3781 Q891.296 65.3249 895.266 63.2184 L895.266 70.267 Q891.255 71.9684 887.042 72.8596 Q882.829 73.7508 878.495 73.7508 Q867.639 73.7508 861.279 67.4314 Q854.959 61.1119 854.959 50.3365 Q854.959 39.1965 860.955 32.6746 Q866.99 26.1121 877.199 26.1121 Q886.354 26.1121 891.66 32.0264 Q897.008 37.9003 897.008 48.0275 M889.554 45.84 Q889.473 39.7232 886.111 36.0774 Q882.789 32.4315 877.28 32.4315 Q871.041 32.4315 867.274 35.9558 Q863.547 39.4801 862.98 45.8805 L889.554 45.84 Z\" fill=\"#000000\" fill-rule=\"nonzero\" fill-opacity=\"1\" /><path clip-path=\"url(#clip090)\" d=\"M939.097 49.3643 Q939.097 41.2625 935.734 36.8065 Q932.413 32.3505 926.377 32.3505 Q920.381 32.3505 917.019 36.8065 Q913.697 41.2625 913.697 49.3643 Q913.697 57.4256 917.019 61.8816 Q920.381 66.3376 926.377 66.3376 Q932.413 66.3376 935.734 61.8816 Q939.097 57.4256 939.097 49.3643 M946.55 66.9452 Q946.55 78.5308 941.406 84.1616 Q936.261 89.8329 925.648 89.8329 Q921.718 89.8329 918.234 89.2252 Q914.751 88.6581 911.469 87.4428 L911.469 80.1917 Q914.751 81.9741 917.951 82.8248 Q921.151 83.6755 924.473 83.6755 Q931.805 83.6755 935.451 79.8271 Q939.097 76.0193 939.097 68.282 L939.097 64.5957 Q936.787 68.6061 933.182 70.5911 Q929.577 72.576 924.554 72.576 Q916.209 72.576 911.105 66.2161 Q906.001 59.8562 906.001 49.3643 Q906.001 38.832 911.105 32.472 Q916.209 26.1121 924.554 26.1121 Q929.577 26.1121 933.182 28.0971 Q936.787 30.082 939.097 34.0924 L939.097 27.2059 L946.55 27.2059 L946.55 66.9452 Z\" fill=\"#000000\" fill-rule=\"nonzero\" fill-opacity=\"1\" /><path clip-path=\"url(#clip090)\" d=\"M1000.71 48.0275 L1000.71 51.6733 L966.44 51.6733 Q966.926 59.3701 971.058 63.421 Q975.231 67.4314 982.644 67.4314 Q986.938 67.4314 990.948 66.3781 Q994.999 65.3249 998.969 63.2184 L998.969 70.267 Q994.958 71.9684 990.746 72.8596 Q986.533 73.7508 982.198 73.7508 Q971.342 73.7508 964.982 67.4314 Q958.662 61.1119 958.662 50.3365 Q958.662 39.1965 964.658 32.6746 Q970.694 26.1121 980.902 26.1121 Q990.057 26.1121 995.364 32.0264 Q1000.71 37.9003 1000.71 48.0275 M993.257 45.84 Q993.176 39.7232 989.814 36.0774 Q986.492 32.4315 980.983 32.4315 Q974.744 32.4315 970.977 35.9558 Q967.25 39.4801 966.683 45.8805 L993.257 45.84 Z\" fill=\"#000000\" fill-rule=\"nonzero\" fill-opacity=\"1\" /><path clip-path=\"url(#clip090)\" d=\"M1039.23 34.1734 Q1037.98 33.4443 1036.48 33.1202 Q1035.02 32.7556 1033.24 32.7556 Q1026.92 32.7556 1023.52 36.8875 Q1020.16 40.9789 1020.16 48.6757 L1020.16 72.576 L1012.66 72.576 L1012.66 27.2059 L1020.16 27.2059 L1020.16 34.2544 Q1022.5 30.1225 1026.27 28.1376 Q1030.04 26.1121 1035.43 26.1121 Q1036.2 26.1121 1037.13 26.2337 Q1038.06 26.3147 1039.19 26.5172 L1039.23 34.1734 Z\" fill=\"#000000\" fill-rule=\"nonzero\" fill-opacity=\"1\" /><path clip-path=\"url(#clip090)\" d=\"M1075.98 28.5427 L1075.98 35.5912 Q1072.82 33.9709 1069.41 33.1607 Q1066.01 32.3505 1062.37 32.3505 Q1056.82 32.3505 1054.02 34.0519 Q1051.27 35.7533 1051.27 39.156 Q1051.27 41.7486 1053.25 43.2475 Q1055.24 44.7058 1061.23 46.0426 L1063.78 46.6097 Q1071.72 48.3111 1075.04 51.4303 Q1078.41 54.509 1078.41 60.0587 Q1078.41 66.3781 1073.38 70.0644 Q1068.4 73.7508 1059.65 73.7508 Q1056.01 73.7508 1052.04 73.0216 Q1048.11 72.3329 1043.73 70.9151 L1043.73 63.2184 Q1047.86 65.3654 1051.87 66.4591 Q1055.88 67.5124 1059.81 67.5124 Q1065.08 67.5124 1067.92 65.73 Q1070.75 63.9071 1070.75 60.6258 Q1070.75 57.5877 1068.68 55.9673 Q1066.66 54.3469 1059.73 52.8481 L1057.14 52.2405 Q1050.21 50.7821 1047.13 47.7845 Q1044.06 44.7463 1044.06 39.4801 Q1044.06 33.0797 1048.59 29.5959 Q1053.13 26.1121 1061.47 26.1121 Q1065.61 26.1121 1069.25 26.7198 Q1072.9 27.3274 1075.98 28.5427 Z\" fill=\"#000000\" fill-rule=\"nonzero\" fill-opacity=\"1\" /><path clip-path=\"url(#clip090)\" d=\"M1137.27 49.7694 Q1128.23 49.7694 1124.75 51.8354 Q1121.27 53.9013 1121.27 58.8839 Q1121.27 62.8538 1123.86 65.2034 Q1126.49 67.5124 1130.99 67.5124 Q1137.19 67.5124 1140.91 63.1374 Q1144.68 58.7219 1144.68 51.4303 L1144.68 49.7694 L1137.27 49.7694 M1152.13 46.6907 L1152.13 72.576 L1144.68 72.576 L1144.68 65.6895 Q1142.13 69.8214 1138.32 71.8063 Q1134.51 73.7508 1129 73.7508 Q1122.04 73.7508 1117.9 69.8619 Q1113.81 65.9325 1113.81 59.3701 Q1113.81 51.7138 1118.92 47.825 Q1124.06 43.9361 1134.23 43.9361 L1144.68 43.9361 L1144.68 43.2069 Q1144.68 38.0623 1141.28 35.2672 Q1137.91 32.4315 1131.8 32.4315 Q1127.91 32.4315 1124.22 33.3632 Q1120.54 34.295 1117.13 36.1584 L1117.13 29.2718 Q1121.23 27.692 1125.07 26.9223 Q1128.92 26.1121 1132.57 26.1121 Q1142.41 26.1121 1147.27 31.2163 Q1152.13 36.3204 1152.13 46.6907 Z\" fill=\"#000000\" fill-rule=\"nonzero\" fill-opacity=\"1\" /><path clip-path=\"url(#clip090)\" d=\"M1205.2 45.1919 L1205.2 72.576 L1197.75 72.576 L1197.75 45.4349 Q1197.75 38.994 1195.24 35.7938 Q1192.72 32.5936 1187.7 32.5936 Q1181.66 32.5936 1178.18 36.4419 Q1174.7 40.2903 1174.7 46.9338 L1174.7 72.576 L1167.2 72.576 L1167.2 27.2059 L1174.7 27.2059 L1174.7 34.2544 Q1177.37 30.163 1180.98 28.1376 Q1184.62 26.1121 1189.36 26.1121 Q1197.18 26.1121 1201.19 30.9732 Q1205.2 35.7938 1205.2 45.1919 Z\" fill=\"#000000\" fill-rule=\"nonzero\" fill-opacity=\"1\" /><path clip-path=\"url(#clip090)\" d=\"M1249.92 34.0924 L1249.92 9.54393 L1257.38 9.54393 L1257.38 72.576 L1249.92 72.576 L1249.92 65.7705 Q1247.57 69.8214 1243.97 71.8063 Q1240.4 73.7508 1235.38 73.7508 Q1227.16 73.7508 1221.97 67.1883 Q1216.83 60.6258 1216.83 49.9314 Q1216.83 39.2371 1221.97 32.6746 Q1227.16 26.1121 1235.38 26.1121 Q1240.4 26.1121 1243.97 28.0971 Q1247.57 30.0415 1249.92 34.0924 M1224.52 49.9314 Q1224.52 58.1548 1227.89 62.8538 Q1231.29 67.5124 1237.2 67.5124 Q1243.12 67.5124 1246.52 62.8538 Q1249.92 58.1548 1249.92 49.9314 Q1249.92 41.7081 1246.52 37.0496 Q1243.12 32.3505 1237.2 32.3505 Q1231.29 32.3505 1227.89 37.0496 Q1224.52 41.7081 1224.52 49.9314 Z\" fill=\"#000000\" fill-rule=\"nonzero\" fill-opacity=\"1\" /><path clip-path=\"url(#clip090)\" d=\"M1291.04 12.096 L1342.2 12.096 L1342.2 18.9825 L1320.73 18.9825 L1320.73 72.576 L1312.51 72.576 L1312.51 18.9825 L1291.04 18.9825 L1291.04 12.096 Z\" fill=\"#000000\" fill-rule=\"nonzero\" fill-opacity=\"1\" /><path clip-path=\"url(#clip090)\" d=\"M1387.49 45.1919 L1387.49 72.576 L1380.04 72.576 L1380.04 45.4349 Q1380.04 38.994 1377.53 35.7938 Q1375.01 32.5936 1369.99 32.5936 Q1363.96 32.5936 1360.47 36.4419 Q1356.99 40.2903 1356.99 46.9338 L1356.99 72.576 L1349.49 72.576 L1349.49 9.54393 L1356.99 9.54393 L1356.99 34.2544 Q1359.66 30.163 1363.27 28.1376 Q1366.91 26.1121 1371.65 26.1121 Q1379.47 26.1121 1383.48 30.9732 Q1387.49 35.7938 1387.49 45.1919 Z\" fill=\"#000000\" fill-rule=\"nonzero\" fill-opacity=\"1\" /><path clip-path=\"url(#clip090)\" d=\"M1441.17 48.0275 L1441.17 51.6733 L1406.89 51.6733 Q1407.38 59.3701 1411.51 63.421 Q1415.69 67.4314 1423.1 67.4314 Q1427.39 67.4314 1431.4 66.3781 Q1435.45 65.3249 1439.42 63.2184 L1439.42 70.267 Q1435.41 71.9684 1431.2 72.8596 Q1426.99 73.7508 1422.65 73.7508 Q1411.8 73.7508 1405.44 67.4314 Q1399.12 61.1119 1399.12 50.3365 Q1399.12 39.1965 1405.11 32.6746 Q1411.15 26.1121 1421.36 26.1121 Q1430.51 26.1121 1435.82 32.0264 Q1441.17 37.9003 1441.17 48.0275 M1433.71 45.84 Q1433.63 39.7232 1430.27 36.0774 Q1426.95 32.4315 1421.44 32.4315 Q1415.2 32.4315 1411.43 35.9558 Q1407.71 39.4801 1407.14 45.8805 L1433.71 45.84 Z\" fill=\"#000000\" fill-rule=\"nonzero\" fill-opacity=\"1\" /><path clip-path=\"url(#clip090)\" d=\"M1453.4 27.2059 L1460.85 27.2059 L1460.85 72.576 L1453.4 72.576 L1453.4 27.2059 M1453.4 9.54393 L1460.85 9.54393 L1460.85 18.9825 L1453.4 18.9825 L1453.4 9.54393 Z\" fill=\"#000000\" fill-rule=\"nonzero\" fill-opacity=\"1\" /><path clip-path=\"url(#clip090)\" d=\"M1502.74 34.1734 Q1501.48 33.4443 1499.98 33.1202 Q1498.53 32.7556 1496.74 32.7556 Q1490.42 32.7556 1487.02 36.8875 Q1483.66 40.9789 1483.66 48.6757 L1483.66 72.576 L1476.17 72.576 L1476.17 27.2059 L1483.66 27.2059 L1483.66 34.2544 Q1486.01 30.1225 1489.78 28.1376 Q1493.54 26.1121 1498.93 26.1121 Q1499.7 26.1121 1500.63 26.2337 Q1501.56 26.3147 1502.7 26.5172 L1502.74 34.1734 Z\" fill=\"#000000\" fill-rule=\"nonzero\" fill-opacity=\"1\" /><path clip-path=\"url(#clip090)\" d=\"M1573.51 14.0809 L1573.51 22.0612 Q1568.85 19.8332 1564.72 18.7395 Q1560.59 17.6457 1556.74 17.6457 Q1550.05 17.6457 1546.41 20.2383 Q1542.8 22.8309 1542.8 27.611 Q1542.8 31.6214 1545.19 33.6873 Q1547.62 35.7128 1554.35 36.9686 L1559.29 37.9813 Q1568.44 39.7232 1572.78 44.1387 Q1577.15 48.5136 1577.15 55.8863 Q1577.15 64.6767 1571.24 69.2137 Q1565.37 73.7508 1553.98 73.7508 Q1549.69 73.7508 1544.83 72.7785 Q1540.01 71.8063 1534.82 69.9024 L1534.82 61.4765 Q1539.81 64.2716 1544.59 65.6895 Q1549.37 67.1073 1553.98 67.1073 Q1560.99 67.1073 1564.8 64.3527 Q1568.61 61.598 1568.61 56.4939 Q1568.61 52.0379 1565.85 49.5264 Q1563.14 47.0148 1556.9 45.759 L1551.92 44.7868 Q1542.76 42.9639 1538.67 39.075 Q1534.58 35.1862 1534.58 28.2591 Q1534.58 20.2383 1540.21 15.6203 Q1545.88 11.0023 1555.81 11.0023 Q1560.06 11.0023 1564.48 11.7719 Q1568.89 12.5416 1573.51 14.0809 Z\" fill=\"#000000\" fill-rule=\"nonzero\" fill-opacity=\"1\" /><path clip-path=\"url(#clip090)\" d=\"M1594.05 49.9314 Q1594.05 58.1548 1597.41 62.8538 Q1600.81 67.5124 1606.73 67.5124 Q1612.64 67.5124 1616.04 62.8538 Q1619.45 58.1548 1619.45 49.9314 Q1619.45 41.7081 1616.04 37.0496 Q1612.64 32.3505 1606.73 32.3505 Q1600.81 32.3505 1597.41 37.0496 Q1594.05 41.7081 1594.05 49.9314 M1619.45 65.7705 Q1617.1 69.8214 1613.49 71.8063 Q1609.93 73.7508 1604.9 73.7508 Q1596.68 73.7508 1591.49 67.1883 Q1586.35 60.6258 1586.35 49.9314 Q1586.35 39.2371 1591.49 32.6746 Q1596.68 26.1121 1604.9 26.1121 Q1609.93 26.1121 1613.49 28.0971 Q1617.1 30.0415 1619.45 34.0924 L1619.45 27.2059 L1626.9 27.2059 L1626.9 89.8329 L1619.45 89.8329 L1619.45 65.7705 Z\" fill=\"#000000\" fill-rule=\"nonzero\" fill-opacity=\"1\" /><path clip-path=\"url(#clip090)\" d=\"M1662.87 49.7694 Q1653.84 49.7694 1650.35 51.8354 Q1646.87 53.9013 1646.87 58.8839 Q1646.87 62.8538 1649.46 65.2034 Q1652.1 67.5124 1656.59 67.5124 Q1662.79 67.5124 1666.52 63.1374 Q1670.28 58.7219 1670.28 51.4303 L1670.28 49.7694 L1662.87 49.7694 M1677.74 46.6907 L1677.74 72.576 L1670.28 72.576 L1670.28 65.6895 Q1667.73 69.8214 1663.92 71.8063 Q1660.12 73.7508 1654.61 73.7508 Q1647.64 73.7508 1643.51 69.8619 Q1639.42 65.9325 1639.42 59.3701 Q1639.42 51.7138 1644.52 47.825 Q1649.67 43.9361 1659.83 43.9361 L1670.28 43.9361 L1670.28 43.2069 Q1670.28 38.0623 1666.88 35.2672 Q1663.52 32.4315 1657.4 32.4315 Q1653.51 32.4315 1649.83 33.3632 Q1646.14 34.295 1642.74 36.1584 L1642.74 29.2718 Q1646.83 27.692 1650.68 26.9223 Q1654.53 26.1121 1658.17 26.1121 Q1668.02 26.1121 1672.88 31.2163 Q1677.74 36.3204 1677.74 46.6907 Z\" fill=\"#000000\" fill-rule=\"nonzero\" fill-opacity=\"1\" /><path clip-path=\"url(#clip090)\" d=\"M1719.38 34.1734 Q1718.13 33.4443 1716.63 33.1202 Q1715.17 32.7556 1713.39 32.7556 Q1707.07 32.7556 1703.66 36.8875 Q1700.3 40.9789 1700.3 48.6757 L1700.3 72.576 L1692.81 72.576 L1692.81 27.2059 L1700.3 27.2059 L1700.3 34.2544 Q1702.65 30.1225 1706.42 28.1376 Q1710.19 26.1121 1715.57 26.1121 Q1716.34 26.1121 1717.28 26.2337 Q1718.21 26.3147 1719.34 26.5172 L1719.38 34.1734 Z\" fill=\"#000000\" fill-rule=\"nonzero\" fill-opacity=\"1\" /><path clip-path=\"url(#clip090)\" d=\"M1764.18 48.0275 L1764.18 51.6733 L1729.91 51.6733 Q1730.4 59.3701 1734.53 63.421 Q1738.7 67.4314 1746.12 67.4314 Q1750.41 67.4314 1754.42 66.3781 Q1758.47 65.3249 1762.44 63.2184 L1762.44 70.267 Q1758.43 71.9684 1754.22 72.8596 Q1750.01 73.7508 1745.67 73.7508 Q1734.82 73.7508 1728.46 67.4314 Q1722.14 61.1119 1722.14 50.3365 Q1722.14 39.1965 1728.13 32.6746 Q1734.17 26.1121 1744.38 26.1121 Q1753.53 26.1121 1758.84 32.0264 Q1764.18 37.9003 1764.18 48.0275 M1756.73 45.84 Q1756.65 39.7232 1753.29 36.0774 Q1749.97 32.4315 1744.46 32.4315 Q1738.22 32.4315 1734.45 35.9558 Q1730.72 39.4801 1730.16 45.8805 L1756.73 45.84 Z\" fill=\"#000000\" fill-rule=\"nonzero\" fill-opacity=\"1\" /><path clip-path=\"url(#clip090)\" d=\"M1805.34 28.5427 L1805.34 35.5912 Q1802.18 33.9709 1798.78 33.1607 Q1795.38 32.3505 1791.73 32.3505 Q1786.18 32.3505 1783.39 34.0519 Q1780.63 35.7533 1780.63 39.156 Q1780.63 41.7486 1782.62 43.2475 Q1784.6 44.7058 1790.6 46.0426 L1793.15 46.6097 Q1801.09 48.3111 1804.41 51.4303 Q1807.77 54.509 1807.77 60.0587 Q1807.77 66.3781 1802.75 70.0644 Q1797.77 73.7508 1789.02 73.7508 Q1785.37 73.7508 1781.4 73.0216 Q1777.47 72.3329 1773.1 70.9151 L1773.1 63.2184 Q1777.23 65.3654 1781.24 66.4591 Q1785.25 67.5124 1789.18 67.5124 Q1794.44 67.5124 1797.28 65.73 Q1800.12 63.9071 1800.12 60.6258 Q1800.12 57.5877 1798.05 55.9673 Q1796.02 54.3469 1789.1 52.8481 L1786.51 52.2405 Q1779.58 50.7821 1776.5 47.7845 Q1773.42 44.7463 1773.42 39.4801 Q1773.42 33.0797 1777.96 29.5959 Q1782.49 26.1121 1790.84 26.1121 Q1794.97 26.1121 1798.62 26.7198 Q1802.26 27.3274 1805.34 28.5427 Z\" fill=\"#000000\" fill-rule=\"nonzero\" fill-opacity=\"1\" /><polyline clip-path=\"url(#clip092)\" style=\"stroke:#009af9; stroke-linecap:round; stroke-linejoin:round; stroke-width:4; stroke-opacity:1; fill:none\" points=\"264.778,160.256 467.495,601.666 670.211,944.985 872.927,1190.21 1075.64,1337.35 1278.36,1386.4 1481.08,1337.35 1683.79,1190.21 1886.51,944.985 2089.22,601.666 2291.94,160.256 \"/>\n",
              "<path clip-path=\"url(#clip090)\" d=\"M2013.82 1379.86 L2281.13 1379.86 L2281.13 1276.18 L2013.82 1276.18  Z\" fill=\"#ffffff\" fill-rule=\"evenodd\" fill-opacity=\"1\"/>\n",
              "<polyline clip-path=\"url(#clip090)\" style=\"stroke:#000000; stroke-linecap:round; stroke-linejoin:round; stroke-width:4; stroke-opacity:1; fill:none\" points=\"2013.82,1379.86 2281.13,1379.86 2281.13,1276.18 2013.82,1276.18 2013.82,1379.86 \"/>\n",
              "<polyline clip-path=\"url(#clip090)\" style=\"stroke:#009af9; stroke-linecap:round; stroke-linejoin:round; stroke-width:4; stroke-opacity:1; fill:none\" points=\"2037.7,1328.02 2180.95,1328.02 \"/>\n",
              "<path clip-path=\"url(#clip090)\" d=\"M2218.67 1347.7 Q2216.86 1352.33 2215.15 1353.75 Q2213.43 1355.16 2210.56 1355.16 L2207.16 1355.16 L2207.16 1351.59 L2209.66 1351.59 Q2211.42 1351.59 2212.39 1350.76 Q2213.37 1349.93 2214.55 1346.82 L2215.31 1344.88 L2204.82 1319.37 L2209.34 1319.37 L2217.44 1339.65 L2225.54 1319.37 L2230.06 1319.37 L2218.67 1347.7 Z\" fill=\"#000000\" fill-rule=\"nonzero\" fill-opacity=\"1\" /><path clip-path=\"url(#clip090)\" d=\"M2237.35 1341.36 L2244.99 1341.36 L2244.99 1315 L2236.68 1316.66 L2236.68 1312.4 L2244.94 1310.74 L2249.62 1310.74 L2249.62 1341.36 L2257.25 1341.36 L2257.25 1345.3 L2237.35 1345.3 L2237.35 1341.36 Z\" fill=\"#000000\" fill-rule=\"nonzero\" fill-opacity=\"1\" /></svg>\n"
            ],
            "text/html": [
              "<?xml version=\"1.0\" encoding=\"utf-8\"?>\n",
              "<svg xmlns=\"http://www.w3.org/2000/svg\" xmlns:xlink=\"http://www.w3.org/1999/xlink\" width=\"600\" height=\"400\" viewBox=\"0 0 2400 1600\">\n",
              "<defs>\n",
              "  <clipPath id=\"clip140\">\n",
              "    <rect x=\"0\" y=\"0\" width=\"2400\" height=\"1600\"/>\n",
              "  </clipPath>\n",
              "</defs>\n",
              "<path clip-path=\"url(#clip140)\" d=\"M0 1600 L2400 1600 L2400 0 L0 0  Z\" fill=\"#ffffff\" fill-rule=\"evenodd\" fill-opacity=\"1\"/>\n",
              "<defs>\n",
              "  <clipPath id=\"clip141\">\n",
              "    <rect x=\"480\" y=\"0\" width=\"1681\" height=\"1600\"/>\n",
              "  </clipPath>\n",
              "</defs>\n",
              "<path clip-path=\"url(#clip140)\" d=\"M203.964 1423.18 L2352.76 1423.18 L2352.76 123.472 L203.964 123.472  Z\" fill=\"#ffffff\" fill-rule=\"evenodd\" fill-opacity=\"1\"/>\n",
              "<defs>\n",
              "  <clipPath id=\"clip142\">\n",
              "    <rect x=\"203\" y=\"123\" width=\"2150\" height=\"1301\"/>\n",
              "  </clipPath>\n",
              "</defs>\n",
              "<polyline clip-path=\"url(#clip142)\" style=\"stroke:#000000; stroke-linecap:round; stroke-linejoin:round; stroke-width:2; stroke-opacity:0.1; fill:none\" points=\"467.495,1423.18 467.495,123.472 \"/>\n",
              "<polyline clip-path=\"url(#clip142)\" style=\"stroke:#000000; stroke-linecap:round; stroke-linejoin:round; stroke-width:2; stroke-opacity:0.1; fill:none\" points=\"872.927,1423.18 872.927,123.472 \"/>\n",
              "<polyline clip-path=\"url(#clip142)\" style=\"stroke:#000000; stroke-linecap:round; stroke-linejoin:round; stroke-width:2; stroke-opacity:0.1; fill:none\" points=\"1278.36,1423.18 1278.36,123.472 \"/>\n",
              "<polyline clip-path=\"url(#clip142)\" style=\"stroke:#000000; stroke-linecap:round; stroke-linejoin:round; stroke-width:2; stroke-opacity:0.1; fill:none\" points=\"1683.79,1423.18 1683.79,123.472 \"/>\n",
              "<polyline clip-path=\"url(#clip142)\" style=\"stroke:#000000; stroke-linecap:round; stroke-linejoin:round; stroke-width:2; stroke-opacity:0.1; fill:none\" points=\"2089.22,1423.18 2089.22,123.472 \"/>\n",
              "<polyline clip-path=\"url(#clip140)\" style=\"stroke:#000000; stroke-linecap:round; stroke-linejoin:round; stroke-width:4; stroke-opacity:1; fill:none\" points=\"203.964,1423.18 2352.76,1423.18 \"/>\n",
              "<polyline clip-path=\"url(#clip140)\" style=\"stroke:#000000; stroke-linecap:round; stroke-linejoin:round; stroke-width:4; stroke-opacity:1; fill:none\" points=\"467.495,1423.18 467.495,1404.28 \"/>\n",
              "<polyline clip-path=\"url(#clip140)\" style=\"stroke:#000000; stroke-linecap:round; stroke-linejoin:round; stroke-width:4; stroke-opacity:1; fill:none\" points=\"872.927,1423.18 872.927,1404.28 \"/>\n",
              "<polyline clip-path=\"url(#clip140)\" style=\"stroke:#000000; stroke-linecap:round; stroke-linejoin:round; stroke-width:4; stroke-opacity:1; fill:none\" points=\"1278.36,1423.18 1278.36,1404.28 \"/>\n",
              "<polyline clip-path=\"url(#clip140)\" style=\"stroke:#000000; stroke-linecap:round; stroke-linejoin:round; stroke-width:4; stroke-opacity:1; fill:none\" points=\"1683.79,1423.18 1683.79,1404.28 \"/>\n",
              "<polyline clip-path=\"url(#clip140)\" style=\"stroke:#000000; stroke-linecap:round; stroke-linejoin:round; stroke-width:4; stroke-opacity:1; fill:none\" points=\"2089.22,1423.18 2089.22,1404.28 \"/>\n",
              "<path clip-path=\"url(#clip140)\" d=\"M436.395 1468.75 L466.071 1468.75 L466.071 1472.69 L436.395 1472.69 L436.395 1468.75 Z\" fill=\"#000000\" fill-rule=\"nonzero\" fill-opacity=\"1\" /><path clip-path=\"url(#clip140)\" d=\"M489.011 1455.09 L477.205 1473.54 L489.011 1473.54 L489.011 1455.09 M487.784 1451.02 L493.664 1451.02 L493.664 1473.54 L498.594 1473.54 L498.594 1477.43 L493.664 1477.43 L493.664 1485.58 L489.011 1485.58 L489.011 1477.43 L473.409 1477.43 L473.409 1472.92 L487.784 1451.02 Z\" fill=\"#000000\" fill-rule=\"nonzero\" fill-opacity=\"1\" /><path clip-path=\"url(#clip140)\" d=\"M842.87 1468.75 L872.545 1468.75 L872.545 1472.69 L842.87 1472.69 L842.87 1468.75 Z\" fill=\"#000000\" fill-rule=\"nonzero\" fill-opacity=\"1\" /><path clip-path=\"url(#clip140)\" d=\"M886.666 1481.64 L902.985 1481.64 L902.985 1485.58 L881.041 1485.58 L881.041 1481.64 Q883.703 1478.89 888.286 1474.26 Q892.892 1469.61 894.073 1468.27 Q896.318 1465.74 897.198 1464.01 Q898.101 1462.25 898.101 1460.56 Q898.101 1457.8 896.156 1456.07 Q894.235 1454.33 891.133 1454.33 Q888.934 1454.33 886.48 1455.09 Q884.05 1455.86 881.272 1457.41 L881.272 1452.69 Q884.096 1451.55 886.55 1450.97 Q889.004 1450.39 891.041 1450.39 Q896.411 1450.39 899.605 1453.08 Q902.8 1455.77 902.8 1460.26 Q902.8 1462.39 901.99 1464.31 Q901.203 1466.2 899.096 1468.8 Q898.517 1469.47 895.416 1472.69 Q892.314 1475.88 886.666 1481.64 Z\" fill=\"#000000\" fill-rule=\"nonzero\" fill-opacity=\"1\" /><path clip-path=\"url(#clip140)\" d=\"M1278.36 1454.1 Q1274.75 1454.1 1272.92 1457.66 Q1271.11 1461.2 1271.11 1468.33 Q1271.11 1475.44 1272.92 1479.01 Q1274.75 1482.55 1278.36 1482.55 Q1281.99 1482.55 1283.8 1479.01 Q1285.63 1475.44 1285.63 1468.33 Q1285.63 1461.2 1283.8 1457.66 Q1281.99 1454.1 1278.36 1454.1 M1278.36 1450.39 Q1284.17 1450.39 1287.23 1455 Q1290.3 1459.58 1290.3 1468.33 Q1290.3 1477.06 1287.23 1481.67 Q1284.17 1486.25 1278.36 1486.25 Q1272.55 1486.25 1269.47 1481.67 Q1266.42 1477.06 1266.42 1468.33 Q1266.42 1459.58 1269.47 1455 Q1272.55 1450.39 1278.36 1450.39 Z\" fill=\"#000000\" fill-rule=\"nonzero\" fill-opacity=\"1\" /><path clip-path=\"url(#clip140)\" d=\"M1678.45 1481.64 L1694.76 1481.64 L1694.76 1485.58 L1672.82 1485.58 L1672.82 1481.64 Q1675.48 1478.89 1680.07 1474.26 Q1684.67 1469.61 1685.85 1468.27 Q1688.1 1465.74 1688.98 1464.01 Q1689.88 1462.25 1689.88 1460.56 Q1689.88 1457.8 1687.94 1456.07 Q1686.01 1454.33 1682.91 1454.33 Q1680.71 1454.33 1678.26 1455.09 Q1675.83 1455.86 1673.05 1457.41 L1673.05 1452.69 Q1675.88 1451.55 1678.33 1450.97 Q1680.78 1450.39 1682.82 1450.39 Q1688.19 1450.39 1691.38 1453.08 Q1694.58 1455.77 1694.58 1460.26 Q1694.58 1462.39 1693.77 1464.31 Q1692.98 1466.2 1690.88 1468.8 Q1690.3 1469.47 1687.2 1472.69 Q1684.09 1475.88 1678.45 1481.64 Z\" fill=\"#000000\" fill-rule=\"nonzero\" fill-opacity=\"1\" /><path clip-path=\"url(#clip140)\" d=\"M2092.23 1455.09 L2080.43 1473.54 L2092.23 1473.54 L2092.23 1455.09 M2091.01 1451.02 L2096.89 1451.02 L2096.89 1473.54 L2101.82 1473.54 L2101.82 1477.43 L2096.89 1477.43 L2096.89 1485.58 L2092.23 1485.58 L2092.23 1477.43 L2076.63 1477.43 L2076.63 1472.92 L2091.01 1451.02 Z\" fill=\"#000000\" fill-rule=\"nonzero\" fill-opacity=\"1\" /><path clip-path=\"url(#clip140)\" d=\"M1148.93 1520.52 L1155.36 1520.52 L1155.36 1568.04 L1148.93 1568.04 L1148.93 1520.52 Z\" fill=\"#000000\" fill-rule=\"nonzero\" fill-opacity=\"1\" /><path clip-path=\"url(#clip140)\" d=\"M1197.53 1546.53 L1197.53 1568.04 L1191.67 1568.04 L1191.67 1546.72 Q1191.67 1541.66 1189.7 1539.14 Q1187.73 1536.63 1183.78 1536.63 Q1179.04 1536.63 1176.3 1539.65 Q1173.56 1542.68 1173.56 1547.9 L1173.56 1568.04 L1167.68 1568.04 L1167.68 1532.4 L1173.56 1532.4 L1173.56 1537.93 Q1175.66 1534.72 1178.5 1533.13 Q1181.36 1531.54 1185.09 1531.54 Q1191.23 1531.54 1194.38 1535.36 Q1197.53 1539.14 1197.53 1546.53 Z\" fill=\"#000000\" fill-rule=\"nonzero\" fill-opacity=\"1\" /><path clip-path=\"url(#clip140)\" d=\"M1215.01 1522.27 L1215.01 1532.4 L1227.07 1532.4 L1227.07 1536.95 L1215.01 1536.95 L1215.01 1556.3 Q1215.01 1560.66 1216.18 1561.9 Q1217.39 1563.14 1221.05 1563.14 L1227.07 1563.14 L1227.07 1568.04 L1221.05 1568.04 Q1214.27 1568.04 1211.69 1565.53 Q1209.12 1562.98 1209.12 1556.3 L1209.12 1536.95 L1204.82 1536.95 L1204.82 1532.4 L1209.12 1532.4 L1209.12 1522.27 L1215.01 1522.27 Z\" fill=\"#000000\" fill-rule=\"nonzero\" fill-opacity=\"1\" /><path clip-path=\"url(#clip140)\" d=\"M1265.26 1548.76 L1265.26 1551.62 L1238.34 1551.62 Q1238.72 1557.67 1241.96 1560.85 Q1245.24 1564 1251.07 1564 Q1254.44 1564 1257.59 1563.17 Q1260.77 1562.35 1263.89 1560.69 L1263.89 1566.23 Q1260.74 1567.57 1257.43 1568.27 Q1254.12 1568.97 1250.72 1568.97 Q1242.19 1568.97 1237.19 1564 Q1232.22 1559.04 1232.22 1550.57 Q1232.22 1541.82 1236.93 1536.69 Q1241.68 1531.54 1249.7 1531.54 Q1256.89 1531.54 1261.06 1536.18 Q1265.26 1540.8 1265.26 1548.76 M1259.41 1547.04 Q1259.34 1542.23 1256.7 1539.37 Q1254.09 1536.5 1249.76 1536.5 Q1244.86 1536.5 1241.9 1539.27 Q1238.97 1542.04 1238.53 1547.07 L1259.41 1547.04 Z\" fill=\"#000000\" fill-rule=\"nonzero\" fill-opacity=\"1\" /><path clip-path=\"url(#clip140)\" d=\"M1298.33 1549.81 Q1298.33 1543.44 1295.69 1539.94 Q1293.08 1536.44 1288.34 1536.44 Q1283.63 1536.44 1280.99 1539.94 Q1278.38 1543.44 1278.38 1549.81 Q1278.38 1556.14 1280.99 1559.64 Q1283.63 1563.14 1288.34 1563.14 Q1293.08 1563.14 1295.69 1559.64 Q1298.33 1556.14 1298.33 1549.81 M1304.19 1563.62 Q1304.19 1572.72 1300.15 1577.15 Q1296.1 1581.6 1287.77 1581.6 Q1284.68 1581.6 1281.94 1581.13 Q1279.2 1580.68 1276.63 1579.72 L1276.63 1574.03 Q1279.2 1575.43 1281.72 1576.1 Q1284.23 1576.76 1286.84 1576.76 Q1292.6 1576.76 1295.47 1573.74 Q1298.33 1570.75 1298.33 1564.67 L1298.33 1561.77 Q1296.52 1564.92 1293.69 1566.48 Q1290.85 1568.04 1286.91 1568.04 Q1280.35 1568.04 1276.34 1563.05 Q1272.33 1558.05 1272.33 1549.81 Q1272.33 1541.53 1276.34 1536.53 Q1280.35 1531.54 1286.91 1531.54 Q1290.85 1531.54 1293.69 1533.1 Q1296.52 1534.66 1298.33 1537.81 L1298.33 1532.4 L1304.19 1532.4 L1304.19 1563.62 Z\" fill=\"#000000\" fill-rule=\"nonzero\" fill-opacity=\"1\" /><path clip-path=\"url(#clip140)\" d=\"M1346.74 1548.76 L1346.74 1551.62 L1319.82 1551.62 Q1320.2 1557.67 1323.44 1560.85 Q1326.72 1564 1332.55 1564 Q1335.92 1564 1339.07 1563.17 Q1342.26 1562.35 1345.37 1560.69 L1345.37 1566.23 Q1342.22 1567.57 1338.91 1568.27 Q1335.6 1568.97 1332.2 1568.97 Q1323.67 1568.97 1318.67 1564 Q1313.71 1559.04 1313.71 1550.57 Q1313.71 1541.82 1318.42 1536.69 Q1323.16 1531.54 1331.18 1531.54 Q1338.37 1531.54 1342.54 1536.18 Q1346.74 1540.8 1346.74 1548.76 M1340.89 1547.04 Q1340.82 1542.23 1338.18 1539.37 Q1335.57 1536.5 1331.24 1536.5 Q1326.34 1536.5 1323.38 1539.27 Q1320.45 1542.04 1320.01 1547.07 L1340.89 1547.04 Z\" fill=\"#000000\" fill-rule=\"nonzero\" fill-opacity=\"1\" /><path clip-path=\"url(#clip140)\" d=\"M1377.01 1537.87 Q1376.03 1537.3 1374.85 1537.04 Q1373.7 1536.76 1372.3 1536.76 Q1367.34 1536.76 1364.66 1540 Q1362.02 1543.22 1362.02 1549.27 L1362.02 1568.04 L1356.13 1568.04 L1356.13 1532.4 L1362.02 1532.4 L1362.02 1537.93 Q1363.87 1534.69 1366.83 1533.13 Q1369.79 1531.54 1374.02 1531.54 Q1374.63 1531.54 1375.36 1531.63 Q1376.09 1531.7 1376.98 1531.85 L1377.01 1537.87 Z\" fill=\"#000000\" fill-rule=\"nonzero\" fill-opacity=\"1\" /><path clip-path=\"url(#clip140)\" d=\"M1405.88 1533.45 L1405.88 1538.98 Q1403.4 1537.71 1400.72 1537.07 Q1398.05 1536.44 1395.19 1536.44 Q1390.83 1536.44 1388.63 1537.77 Q1386.47 1539.11 1386.47 1541.79 Q1386.47 1543.82 1388.02 1545 Q1389.58 1546.15 1394.3 1547.2 L1396.3 1547.64 Q1402.54 1548.98 1405.15 1551.43 Q1407.79 1553.85 1407.79 1558.21 Q1407.79 1563.17 1403.84 1566.07 Q1399.93 1568.97 1393.05 1568.97 Q1390.19 1568.97 1387.07 1568.39 Q1383.98 1567.85 1380.55 1566.74 L1380.55 1560.69 Q1383.79 1562.38 1386.94 1563.24 Q1390.09 1564.07 1393.18 1564.07 Q1397.32 1564.07 1399.55 1562.66 Q1401.77 1561.23 1401.77 1558.65 Q1401.77 1556.27 1400.15 1554.99 Q1398.56 1553.72 1393.12 1552.54 L1391.08 1552.07 Q1385.64 1550.92 1383.22 1548.56 Q1380.8 1546.18 1380.8 1542.04 Q1380.8 1537.01 1384.36 1534.27 Q1387.93 1531.54 1394.49 1531.54 Q1397.73 1531.54 1400.6 1532.01 Q1403.46 1532.49 1405.88 1533.45 Z\" fill=\"#000000\" fill-rule=\"nonzero\" fill-opacity=\"1\" /><polyline clip-path=\"url(#clip142)\" style=\"stroke:#000000; stroke-linecap:round; stroke-linejoin:round; stroke-width:2; stroke-opacity:0.1; fill:none\" points=\"203.964,1386.4 2352.76,1386.4 \"/>\n",
              "<polyline clip-path=\"url(#clip142)\" style=\"stroke:#000000; stroke-linecap:round; stroke-linejoin:round; stroke-width:2; stroke-opacity:0.1; fill:none\" points=\"203.964,1141.17 2352.76,1141.17 \"/>\n",
              "<polyline clip-path=\"url(#clip142)\" style=\"stroke:#000000; stroke-linecap:round; stroke-linejoin:round; stroke-width:2; stroke-opacity:0.1; fill:none\" points=\"203.964,895.94 2352.76,895.94 \"/>\n",
              "<polyline clip-path=\"url(#clip142)\" style=\"stroke:#000000; stroke-linecap:round; stroke-linejoin:round; stroke-width:2; stroke-opacity:0.1; fill:none\" points=\"203.964,650.712 2352.76,650.712 \"/>\n",
              "<polyline clip-path=\"url(#clip142)\" style=\"stroke:#000000; stroke-linecap:round; stroke-linejoin:round; stroke-width:2; stroke-opacity:0.1; fill:none\" points=\"203.964,405.484 2352.76,405.484 \"/>\n",
              "<polyline clip-path=\"url(#clip142)\" style=\"stroke:#000000; stroke-linecap:round; stroke-linejoin:round; stroke-width:2; stroke-opacity:0.1; fill:none\" points=\"203.964,160.256 2352.76,160.256 \"/>\n",
              "<polyline clip-path=\"url(#clip140)\" style=\"stroke:#000000; stroke-linecap:round; stroke-linejoin:round; stroke-width:4; stroke-opacity:1; fill:none\" points=\"203.964,1423.18 203.964,123.472 \"/>\n",
              "<polyline clip-path=\"url(#clip140)\" style=\"stroke:#000000; stroke-linecap:round; stroke-linejoin:round; stroke-width:4; stroke-opacity:1; fill:none\" points=\"203.964,1386.4 222.861,1386.4 \"/>\n",
              "<polyline clip-path=\"url(#clip140)\" style=\"stroke:#000000; stroke-linecap:round; stroke-linejoin:round; stroke-width:4; stroke-opacity:1; fill:none\" points=\"203.964,1141.17 222.861,1141.17 \"/>\n",
              "<polyline clip-path=\"url(#clip140)\" style=\"stroke:#000000; stroke-linecap:round; stroke-linejoin:round; stroke-width:4; stroke-opacity:1; fill:none\" points=\"203.964,895.94 222.861,895.94 \"/>\n",
              "<polyline clip-path=\"url(#clip140)\" style=\"stroke:#000000; stroke-linecap:round; stroke-linejoin:round; stroke-width:4; stroke-opacity:1; fill:none\" points=\"203.964,650.712 222.861,650.712 \"/>\n",
              "<polyline clip-path=\"url(#clip140)\" style=\"stroke:#000000; stroke-linecap:round; stroke-linejoin:round; stroke-width:4; stroke-opacity:1; fill:none\" points=\"203.964,405.484 222.861,405.484 \"/>\n",
              "<polyline clip-path=\"url(#clip140)\" style=\"stroke:#000000; stroke-linecap:round; stroke-linejoin:round; stroke-width:4; stroke-opacity:1; fill:none\" points=\"203.964,160.256 222.861,160.256 \"/>\n",
              "<path clip-path=\"url(#clip140)\" d=\"M156.019 1372.19 Q152.408 1372.19 150.579 1375.76 Q148.774 1379.3 148.774 1386.43 Q148.774 1393.54 150.579 1397.1 Q152.408 1400.64 156.019 1400.64 Q159.653 1400.64 161.459 1397.1 Q163.288 1393.54 163.288 1386.43 Q163.288 1379.3 161.459 1375.76 Q159.653 1372.19 156.019 1372.19 M156.019 1368.49 Q161.829 1368.49 164.885 1373.1 Q167.964 1377.68 167.964 1386.43 Q167.964 1395.16 164.885 1399.76 Q161.829 1404.35 156.019 1404.35 Q150.209 1404.35 147.13 1399.76 Q144.075 1395.16 144.075 1386.43 Q144.075 1377.68 147.13 1373.1 Q150.209 1368.49 156.019 1368.49 Z\" fill=\"#000000\" fill-rule=\"nonzero\" fill-opacity=\"1\" /><path clip-path=\"url(#clip140)\" d=\"M147.061 1123.89 L165.417 1123.89 L165.417 1127.82 L151.343 1127.82 L151.343 1136.3 Q152.362 1135.95 153.38 1135.79 Q154.399 1135.6 155.417 1135.6 Q161.204 1135.6 164.584 1138.77 Q167.964 1141.94 167.964 1147.36 Q167.964 1152.94 164.491 1156.04 Q161.019 1159.12 154.7 1159.12 Q152.524 1159.12 150.255 1158.75 Q148.01 1158.38 145.603 1157.64 L145.603 1152.94 Q147.686 1154.07 149.908 1154.63 Q152.13 1155.18 154.607 1155.18 Q158.612 1155.18 160.95 1153.08 Q163.288 1150.97 163.288 1147.36 Q163.288 1143.75 160.95 1141.64 Q158.612 1139.54 154.607 1139.54 Q152.732 1139.54 150.857 1139.95 Q149.005 1140.37 147.061 1141.25 L147.061 1123.89 Z\" fill=\"#000000\" fill-rule=\"nonzero\" fill-opacity=\"1\" /><path clip-path=\"url(#clip140)\" d=\"M116.668 909.285 L124.306 909.285 L124.306 882.919 L115.996 884.586 L115.996 880.327 L124.26 878.66 L128.936 878.66 L128.936 909.285 L136.575 909.285 L136.575 913.22 L116.668 913.22 L116.668 909.285 Z\" fill=\"#000000\" fill-rule=\"nonzero\" fill-opacity=\"1\" /><path clip-path=\"url(#clip140)\" d=\"M156.019 881.739 Q152.408 881.739 150.579 885.303 Q148.774 888.845 148.774 895.975 Q148.774 903.081 150.579 906.646 Q152.408 910.188 156.019 910.188 Q159.653 910.188 161.459 906.646 Q163.288 903.081 163.288 895.975 Q163.288 888.845 161.459 885.303 Q159.653 881.739 156.019 881.739 M156.019 878.035 Q161.829 878.035 164.885 882.641 Q167.964 887.225 167.964 895.975 Q167.964 904.701 164.885 909.308 Q161.829 913.891 156.019 913.891 Q150.209 913.891 147.13 909.308 Q144.075 904.701 144.075 895.975 Q144.075 887.225 147.13 882.641 Q150.209 878.035 156.019 878.035 Z\" fill=\"#000000\" fill-rule=\"nonzero\" fill-opacity=\"1\" /><path clip-path=\"url(#clip140)\" d=\"M117.663 664.057 L125.302 664.057 L125.302 637.691 L116.992 639.358 L116.992 635.099 L125.255 633.432 L129.931 633.432 L129.931 664.057 L137.57 664.057 L137.57 667.992 L117.663 667.992 L117.663 664.057 Z\" fill=\"#000000\" fill-rule=\"nonzero\" fill-opacity=\"1\" /><path clip-path=\"url(#clip140)\" d=\"M147.061 633.432 L165.417 633.432 L165.417 637.367 L151.343 637.367 L151.343 645.839 Q152.362 645.492 153.38 645.33 Q154.399 645.145 155.417 645.145 Q161.204 645.145 164.584 648.316 Q167.964 651.488 167.964 656.904 Q167.964 662.483 164.491 665.585 Q161.019 668.663 154.7 668.663 Q152.524 668.663 150.255 668.293 Q148.01 667.923 145.603 667.182 L145.603 662.483 Q147.686 663.617 149.908 664.173 Q152.13 664.728 154.607 664.728 Q158.612 664.728 160.95 662.622 Q163.288 660.515 163.288 656.904 Q163.288 653.293 160.95 651.187 Q158.612 649.08 154.607 649.08 Q152.732 649.08 150.857 649.497 Q149.005 649.913 147.061 650.793 L147.061 633.432 Z\" fill=\"#000000\" fill-rule=\"nonzero\" fill-opacity=\"1\" /><path clip-path=\"url(#clip140)\" d=\"M119.885 418.829 L136.204 418.829 L136.204 422.764 L114.26 422.764 L114.26 418.829 Q116.922 416.074 121.505 411.445 Q126.112 406.792 127.292 405.449 Q129.538 402.926 130.417 401.19 Q131.32 399.431 131.32 397.741 Q131.32 394.987 129.376 393.25 Q127.455 391.514 124.353 391.514 Q122.154 391.514 119.7 392.278 Q117.269 393.042 114.492 394.593 L114.492 389.871 Q117.316 388.737 119.769 388.158 Q122.223 387.579 124.26 387.579 Q129.63 387.579 132.825 390.264 Q136.019 392.95 136.019 397.44 Q136.019 399.57 135.209 401.491 Q134.422 403.389 132.316 405.982 Q131.737 406.653 128.635 409.871 Q125.533 413.065 119.885 418.829 Z\" fill=\"#000000\" fill-rule=\"nonzero\" fill-opacity=\"1\" /><path clip-path=\"url(#clip140)\" d=\"M156.019 391.283 Q152.408 391.283 150.579 394.848 Q148.774 398.389 148.774 405.519 Q148.774 412.625 150.579 416.19 Q152.408 419.732 156.019 419.732 Q159.653 419.732 161.459 416.19 Q163.288 412.625 163.288 405.519 Q163.288 398.389 161.459 394.848 Q159.653 391.283 156.019 391.283 M156.019 387.579 Q161.829 387.579 164.885 392.186 Q167.964 396.769 167.964 405.519 Q167.964 414.246 164.885 418.852 Q161.829 423.435 156.019 423.435 Q150.209 423.435 147.13 418.852 Q144.075 414.246 144.075 405.519 Q144.075 396.769 147.13 392.186 Q150.209 387.579 156.019 387.579 Z\" fill=\"#000000\" fill-rule=\"nonzero\" fill-opacity=\"1\" /><path clip-path=\"url(#clip140)\" d=\"M120.88 173.601 L137.2 173.601 L137.2 177.536 L115.256 177.536 L115.256 173.601 Q117.918 170.847 122.501 166.217 Q127.107 161.564 128.288 160.222 Q130.533 157.698 131.413 155.962 Q132.316 154.203 132.316 152.513 Q132.316 149.759 130.371 148.023 Q128.45 146.286 125.348 146.286 Q123.149 146.286 120.695 147.05 Q118.265 147.814 115.487 149.365 L115.487 144.643 Q118.311 143.509 120.765 142.93 Q123.218 142.351 125.255 142.351 Q130.626 142.351 133.82 145.036 Q137.015 147.722 137.015 152.212 Q137.015 154.342 136.204 156.263 Q135.417 158.161 133.311 160.754 Q132.732 161.425 129.63 164.643 Q126.529 167.837 120.88 173.601 Z\" fill=\"#000000\" fill-rule=\"nonzero\" fill-opacity=\"1\" /><path clip-path=\"url(#clip140)\" d=\"M147.061 142.976 L165.417 142.976 L165.417 146.911 L151.343 146.911 L151.343 155.384 Q152.362 155.036 153.38 154.874 Q154.399 154.689 155.417 154.689 Q161.204 154.689 164.584 157.86 Q167.964 161.032 167.964 166.448 Q167.964 172.027 164.491 175.129 Q161.019 178.208 154.7 178.208 Q152.524 178.208 150.255 177.837 Q148.01 177.467 145.603 176.726 L145.603 172.027 Q147.686 173.161 149.908 173.717 Q152.13 174.272 154.607 174.272 Q158.612 174.272 160.95 172.166 Q163.288 170.059 163.288 166.448 Q163.288 162.837 160.95 160.731 Q158.612 158.624 154.607 158.624 Q152.732 158.624 150.857 159.041 Q149.005 159.458 147.061 160.337 L147.061 142.976 Z\" fill=\"#000000\" fill-rule=\"nonzero\" fill-opacity=\"1\" /><path clip-path=\"url(#clip140)\" d=\"M18.0438 870.721 L24.314 870.721 Q22.5634 874.382 21.704 877.628 Q20.8447 880.875 20.8447 883.898 Q20.8447 889.15 22.8817 892.015 Q24.9187 894.847 28.6745 894.847 Q31.8255 894.847 33.4488 892.969 Q35.0402 891.06 36.0269 885.776 L36.8226 881.893 Q38.1912 874.7 41.6605 871.294 Q45.098 867.857 50.8908 867.857 Q57.7976 867.857 61.3624 872.504 Q64.9272 877.119 64.9272 886.063 Q64.9272 889.436 64.1633 893.256 Q63.3994 897.043 61.9035 901.118 L55.2831 901.118 Q57.4793 897.203 58.5933 893.447 Q59.7073 889.691 59.7073 886.063 Q59.7073 880.556 57.543 877.564 Q55.3786 874.573 51.3682 874.573 Q47.8671 874.573 45.8937 876.737 Q43.9204 878.869 42.9337 883.771 L42.1698 887.686 Q40.7375 894.879 37.682 898.094 Q34.6264 901.309 29.1837 901.309 Q22.8817 901.309 19.2532 896.884 Q15.6248 892.428 15.6248 884.63 Q15.6248 881.288 16.2295 877.819 Q16.8343 874.35 18.0438 870.721 Z\" fill=\"#000000\" fill-rule=\"nonzero\" fill-opacity=\"1\" /><path clip-path=\"url(#clip140)\" d=\"M46.212 854.584 Q52.6732 854.584 56.3653 851.942 Q60.0256 849.269 60.0256 844.622 Q60.0256 839.975 56.3653 837.301 Q52.6732 834.628 46.212 834.628 Q39.7508 834.628 36.0905 837.301 Q32.3984 839.975 32.3984 844.622 Q32.3984 849.269 36.0905 851.942 Q39.7508 854.584 46.212 854.584 M58.657 834.628 Q61.8398 836.474 63.3994 839.307 Q64.9272 842.107 64.9272 846.054 Q64.9272 852.515 59.771 856.589 Q54.6147 860.632 46.212 860.632 Q37.8093 860.632 32.6531 856.589 Q27.4968 852.515 27.4968 846.054 Q27.4968 842.107 29.0564 839.307 Q30.5842 836.474 33.7671 834.628 L28.3562 834.628 L28.3562 828.771 L77.5631 828.771 L77.5631 834.628 L58.657 834.628 Z\" fill=\"#000000\" fill-rule=\"nonzero\" fill-opacity=\"1\" /><path clip-path=\"url(#clip140)\" d=\"M49.9359 817.313 L28.3562 817.313 L28.3562 811.457 L49.7131 811.457 Q54.7739 811.457 57.3202 809.483 Q59.8346 807.51 59.8346 803.563 Q59.8346 798.821 56.8109 796.083 Q53.7872 793.314 48.5673 793.314 L28.3562 793.314 L28.3562 787.458 L64.0042 787.458 L64.0042 793.314 L58.5296 793.314 Q61.7762 795.447 63.3676 798.28 Q64.9272 801.08 64.9272 804.804 Q64.9272 810.947 61.1078 814.13 Q57.2883 817.313 49.9359 817.313 M27.4968 802.576 L27.4968 802.576 Z\" fill=\"#000000\" fill-rule=\"nonzero\" fill-opacity=\"1\" /><path clip-path=\"url(#clip140)\" d=\"M46.0847 759.194 Q46.0847 766.292 47.7079 769.029 Q49.3312 771.766 53.2461 771.766 Q56.3653 771.766 58.2114 769.729 Q60.0256 767.661 60.0256 764.128 Q60.0256 759.258 56.5881 756.33 Q53.1188 753.369 47.3897 753.369 L46.0847 753.369 L46.0847 759.194 M43.6657 747.513 L64.0042 747.513 L64.0042 753.369 L58.5933 753.369 Q61.8398 755.375 63.3994 758.367 Q64.9272 761.358 64.9272 765.687 Q64.9272 771.162 61.8716 774.408 Q58.7843 777.623 53.6281 777.623 Q47.6125 777.623 44.5569 773.612 Q41.5014 769.57 41.5014 761.581 L41.5014 753.369 L40.9285 753.369 Q36.8862 753.369 34.6901 756.043 Q32.4621 758.685 32.4621 763.491 Q32.4621 766.547 33.1941 769.443 Q33.9262 772.339 35.3903 775.013 L29.9795 775.013 Q28.7381 771.798 28.1334 768.775 Q27.4968 765.751 27.4968 762.886 Q27.4968 755.152 31.5072 751.332 Q35.5176 747.513 43.6657 747.513 Z\" fill=\"#000000\" fill-rule=\"nonzero\" fill-opacity=\"1\" /><path clip-path=\"url(#clip140)\" d=\"M33.8307 714.793 Q33.2578 715.78 33.0032 716.958 Q32.7167 718.103 32.7167 719.504 Q32.7167 724.469 35.9632 727.143 Q39.1779 729.785 45.2253 729.785 L64.0042 729.785 L64.0042 735.673 L28.3562 735.673 L28.3562 729.785 L33.8944 729.785 Q30.6479 727.938 29.0883 724.978 Q27.4968 722.018 27.4968 717.785 Q27.4968 717.18 27.5923 716.448 Q27.656 715.716 27.8151 714.825 L33.8307 714.793 Z\" fill=\"#000000\" fill-rule=\"nonzero\" fill-opacity=\"1\" /><path clip-path=\"url(#clip140)\" d=\"M44.7161 679.591 L47.5806 679.591 L47.5806 706.518 Q53.6281 706.136 56.8109 702.889 Q59.9619 699.611 59.9619 693.786 Q59.9619 690.413 59.1344 687.262 Q58.3069 684.079 56.6518 680.96 L62.1899 680.96 Q63.5267 684.111 64.227 687.421 Q64.9272 690.731 64.9272 694.137 Q64.9272 702.667 59.9619 707.664 Q54.9967 712.629 46.5303 712.629 Q37.7774 712.629 32.6531 707.918 Q27.4968 703.176 27.4968 695.155 Q27.4968 687.962 32.1438 683.792 Q36.7589 679.591 44.7161 679.591 M42.9973 685.447 Q38.1912 685.511 35.3266 688.153 Q32.4621 690.763 32.4621 695.091 Q32.4621 699.993 35.2312 702.953 Q38.0002 705.881 43.0292 706.327 L42.9973 685.447 Z\" fill=\"#000000\" fill-rule=\"nonzero\" fill-opacity=\"1\" /><path clip-path=\"url(#clip140)\" d=\"M29.4065 647.253 L34.9447 647.253 Q33.6716 649.736 33.035 652.409 Q32.3984 655.083 32.3984 657.948 Q32.3984 662.308 33.7352 664.504 Q35.072 666.669 37.7456 666.669 Q39.7826 666.669 40.9603 665.109 Q42.1061 663.549 43.1565 658.839 L43.6021 656.834 Q44.9389 650.595 47.3897 647.985 Q49.8086 645.343 54.1691 645.343 Q59.1344 645.343 62.0308 649.29 Q64.9272 653.205 64.9272 660.08 Q64.9272 662.945 64.3543 666.064 Q63.8132 669.151 62.6992 672.589 L56.6518 672.589 Q58.3387 669.342 59.198 666.191 Q60.0256 663.04 60.0256 659.953 Q60.0256 655.815 58.6251 653.587 Q57.1929 651.359 54.6147 651.359 Q52.2276 651.359 50.9545 652.982 Q49.6813 654.574 48.5037 660.016 L48.0262 662.053 Q46.8804 667.496 44.5251 669.915 Q42.138 672.334 38.0002 672.334 Q32.9713 672.334 30.2341 668.769 Q27.4968 665.204 27.4968 658.648 Q27.4968 655.401 27.9743 652.537 Q28.4517 649.672 29.4065 647.253 Z\" fill=\"#000000\" fill-rule=\"nonzero\" fill-opacity=\"1\" /><path clip-path=\"url(#clip140)\" d=\"M748.947 12.096 L757.13 12.096 L757.13 72.576 L748.947 72.576 L748.947 12.096 Z\" fill=\"#000000\" fill-rule=\"nonzero\" fill-opacity=\"1\" /><path clip-path=\"url(#clip140)\" d=\"M810.804 45.1919 L810.804 72.576 L803.351 72.576 L803.351 45.4349 Q803.351 38.994 800.839 35.7938 Q798.328 32.5936 793.304 32.5936 Q787.269 32.5936 783.785 36.4419 Q780.301 40.2903 780.301 46.9338 L780.301 72.576 L772.807 72.576 L772.807 27.2059 L780.301 27.2059 L780.301 34.2544 Q782.975 30.163 786.58 28.1376 Q790.226 26.1121 794.965 26.1121 Q802.784 26.1121 806.794 30.9732 Q810.804 35.7938 810.804 45.1919 Z\" fill=\"#000000\" fill-rule=\"nonzero\" fill-opacity=\"1\" /><path clip-path=\"url(#clip140)\" d=\"M833.044 14.324 L833.044 27.2059 L848.397 27.2059 L848.397 32.9987 L833.044 32.9987 L833.044 57.6282 Q833.044 63.1779 834.543 64.7578 Q836.082 66.3376 840.741 66.3376 L848.397 66.3376 L848.397 72.576 L840.741 72.576 Q832.112 72.576 828.831 69.3758 Q825.55 66.1351 825.55 57.6282 L825.55 32.9987 L820.081 32.9987 L820.081 27.2059 L825.55 27.2059 L825.55 14.324 L833.044 14.324 Z\" fill=\"#000000\" fill-rule=\"nonzero\" fill-opacity=\"1\" /><path clip-path=\"url(#clip140)\" d=\"M897.008 48.0275 L897.008 51.6733 L862.737 51.6733 Q863.223 59.3701 867.355 63.421 Q871.527 67.4314 878.941 67.4314 Q883.235 67.4314 887.245 66.3781 Q891.296 65.3249 895.266 63.2184 L895.266 70.267 Q891.255 71.9684 887.042 72.8596 Q882.829 73.7508 878.495 73.7508 Q867.639 73.7508 861.279 67.4314 Q854.959 61.1119 854.959 50.3365 Q854.959 39.1965 860.955 32.6746 Q866.99 26.1121 877.199 26.1121 Q886.354 26.1121 891.66 32.0264 Q897.008 37.9003 897.008 48.0275 M889.554 45.84 Q889.473 39.7232 886.111 36.0774 Q882.789 32.4315 877.28 32.4315 Q871.041 32.4315 867.274 35.9558 Q863.547 39.4801 862.98 45.8805 L889.554 45.84 Z\" fill=\"#000000\" fill-rule=\"nonzero\" fill-opacity=\"1\" /><path clip-path=\"url(#clip140)\" d=\"M939.097 49.3643 Q939.097 41.2625 935.734 36.8065 Q932.413 32.3505 926.377 32.3505 Q920.381 32.3505 917.019 36.8065 Q913.697 41.2625 913.697 49.3643 Q913.697 57.4256 917.019 61.8816 Q920.381 66.3376 926.377 66.3376 Q932.413 66.3376 935.734 61.8816 Q939.097 57.4256 939.097 49.3643 M946.55 66.9452 Q946.55 78.5308 941.406 84.1616 Q936.261 89.8329 925.648 89.8329 Q921.718 89.8329 918.234 89.2252 Q914.751 88.6581 911.469 87.4428 L911.469 80.1917 Q914.751 81.9741 917.951 82.8248 Q921.151 83.6755 924.473 83.6755 Q931.805 83.6755 935.451 79.8271 Q939.097 76.0193 939.097 68.282 L939.097 64.5957 Q936.787 68.6061 933.182 70.5911 Q929.577 72.576 924.554 72.576 Q916.209 72.576 911.105 66.2161 Q906.001 59.8562 906.001 49.3643 Q906.001 38.832 911.105 32.472 Q916.209 26.1121 924.554 26.1121 Q929.577 26.1121 933.182 28.0971 Q936.787 30.082 939.097 34.0924 L939.097 27.2059 L946.55 27.2059 L946.55 66.9452 Z\" fill=\"#000000\" fill-rule=\"nonzero\" fill-opacity=\"1\" /><path clip-path=\"url(#clip140)\" d=\"M1000.71 48.0275 L1000.71 51.6733 L966.44 51.6733 Q966.926 59.3701 971.058 63.421 Q975.231 67.4314 982.644 67.4314 Q986.938 67.4314 990.948 66.3781 Q994.999 65.3249 998.969 63.2184 L998.969 70.267 Q994.958 71.9684 990.746 72.8596 Q986.533 73.7508 982.198 73.7508 Q971.342 73.7508 964.982 67.4314 Q958.662 61.1119 958.662 50.3365 Q958.662 39.1965 964.658 32.6746 Q970.694 26.1121 980.902 26.1121 Q990.057 26.1121 995.364 32.0264 Q1000.71 37.9003 1000.71 48.0275 M993.257 45.84 Q993.176 39.7232 989.814 36.0774 Q986.492 32.4315 980.983 32.4315 Q974.744 32.4315 970.977 35.9558 Q967.25 39.4801 966.683 45.8805 L993.257 45.84 Z\" fill=\"#000000\" fill-rule=\"nonzero\" fill-opacity=\"1\" /><path clip-path=\"url(#clip140)\" d=\"M1039.23 34.1734 Q1037.98 33.4443 1036.48 33.1202 Q1035.02 32.7556 1033.24 32.7556 Q1026.92 32.7556 1023.52 36.8875 Q1020.16 40.9789 1020.16 48.6757 L1020.16 72.576 L1012.66 72.576 L1012.66 27.2059 L1020.16 27.2059 L1020.16 34.2544 Q1022.5 30.1225 1026.27 28.1376 Q1030.04 26.1121 1035.43 26.1121 Q1036.2 26.1121 1037.13 26.2337 Q1038.06 26.3147 1039.19 26.5172 L1039.23 34.1734 Z\" fill=\"#000000\" fill-rule=\"nonzero\" fill-opacity=\"1\" /><path clip-path=\"url(#clip140)\" d=\"M1075.98 28.5427 L1075.98 35.5912 Q1072.82 33.9709 1069.41 33.1607 Q1066.01 32.3505 1062.37 32.3505 Q1056.82 32.3505 1054.02 34.0519 Q1051.27 35.7533 1051.27 39.156 Q1051.27 41.7486 1053.25 43.2475 Q1055.24 44.7058 1061.23 46.0426 L1063.78 46.6097 Q1071.72 48.3111 1075.04 51.4303 Q1078.41 54.509 1078.41 60.0587 Q1078.41 66.3781 1073.38 70.0644 Q1068.4 73.7508 1059.65 73.7508 Q1056.01 73.7508 1052.04 73.0216 Q1048.11 72.3329 1043.73 70.9151 L1043.73 63.2184 Q1047.86 65.3654 1051.87 66.4591 Q1055.88 67.5124 1059.81 67.5124 Q1065.08 67.5124 1067.92 65.73 Q1070.75 63.9071 1070.75 60.6258 Q1070.75 57.5877 1068.68 55.9673 Q1066.66 54.3469 1059.73 52.8481 L1057.14 52.2405 Q1050.21 50.7821 1047.13 47.7845 Q1044.06 44.7463 1044.06 39.4801 Q1044.06 33.0797 1048.59 29.5959 Q1053.13 26.1121 1061.47 26.1121 Q1065.61 26.1121 1069.25 26.7198 Q1072.9 27.3274 1075.98 28.5427 Z\" fill=\"#000000\" fill-rule=\"nonzero\" fill-opacity=\"1\" /><path clip-path=\"url(#clip140)\" d=\"M1137.27 49.7694 Q1128.23 49.7694 1124.75 51.8354 Q1121.27 53.9013 1121.27 58.8839 Q1121.27 62.8538 1123.86 65.2034 Q1126.49 67.5124 1130.99 67.5124 Q1137.19 67.5124 1140.91 63.1374 Q1144.68 58.7219 1144.68 51.4303 L1144.68 49.7694 L1137.27 49.7694 M1152.13 46.6907 L1152.13 72.576 L1144.68 72.576 L1144.68 65.6895 Q1142.13 69.8214 1138.32 71.8063 Q1134.51 73.7508 1129 73.7508 Q1122.04 73.7508 1117.9 69.8619 Q1113.81 65.9325 1113.81 59.3701 Q1113.81 51.7138 1118.92 47.825 Q1124.06 43.9361 1134.23 43.9361 L1144.68 43.9361 L1144.68 43.2069 Q1144.68 38.0623 1141.28 35.2672 Q1137.91 32.4315 1131.8 32.4315 Q1127.91 32.4315 1124.22 33.3632 Q1120.54 34.295 1117.13 36.1584 L1117.13 29.2718 Q1121.23 27.692 1125.07 26.9223 Q1128.92 26.1121 1132.57 26.1121 Q1142.41 26.1121 1147.27 31.2163 Q1152.13 36.3204 1152.13 46.6907 Z\" fill=\"#000000\" fill-rule=\"nonzero\" fill-opacity=\"1\" /><path clip-path=\"url(#clip140)\" d=\"M1205.2 45.1919 L1205.2 72.576 L1197.75 72.576 L1197.75 45.4349 Q1197.75 38.994 1195.24 35.7938 Q1192.72 32.5936 1187.7 32.5936 Q1181.66 32.5936 1178.18 36.4419 Q1174.7 40.2903 1174.7 46.9338 L1174.7 72.576 L1167.2 72.576 L1167.2 27.2059 L1174.7 27.2059 L1174.7 34.2544 Q1177.37 30.163 1180.98 28.1376 Q1184.62 26.1121 1189.36 26.1121 Q1197.18 26.1121 1201.19 30.9732 Q1205.2 35.7938 1205.2 45.1919 Z\" fill=\"#000000\" fill-rule=\"nonzero\" fill-opacity=\"1\" /><path clip-path=\"url(#clip140)\" d=\"M1249.92 34.0924 L1249.92 9.54393 L1257.38 9.54393 L1257.38 72.576 L1249.92 72.576 L1249.92 65.7705 Q1247.57 69.8214 1243.97 71.8063 Q1240.4 73.7508 1235.38 73.7508 Q1227.16 73.7508 1221.97 67.1883 Q1216.83 60.6258 1216.83 49.9314 Q1216.83 39.2371 1221.97 32.6746 Q1227.16 26.1121 1235.38 26.1121 Q1240.4 26.1121 1243.97 28.0971 Q1247.57 30.0415 1249.92 34.0924 M1224.52 49.9314 Q1224.52 58.1548 1227.89 62.8538 Q1231.29 67.5124 1237.2 67.5124 Q1243.12 67.5124 1246.52 62.8538 Q1249.92 58.1548 1249.92 49.9314 Q1249.92 41.7081 1246.52 37.0496 Q1243.12 32.3505 1237.2 32.3505 Q1231.29 32.3505 1227.89 37.0496 Q1224.52 41.7081 1224.52 49.9314 Z\" fill=\"#000000\" fill-rule=\"nonzero\" fill-opacity=\"1\" /><path clip-path=\"url(#clip140)\" d=\"M1291.04 12.096 L1342.2 12.096 L1342.2 18.9825 L1320.73 18.9825 L1320.73 72.576 L1312.51 72.576 L1312.51 18.9825 L1291.04 18.9825 L1291.04 12.096 Z\" fill=\"#000000\" fill-rule=\"nonzero\" fill-opacity=\"1\" /><path clip-path=\"url(#clip140)\" d=\"M1387.49 45.1919 L1387.49 72.576 L1380.04 72.576 L1380.04 45.4349 Q1380.04 38.994 1377.53 35.7938 Q1375.01 32.5936 1369.99 32.5936 Q1363.96 32.5936 1360.47 36.4419 Q1356.99 40.2903 1356.99 46.9338 L1356.99 72.576 L1349.49 72.576 L1349.49 9.54393 L1356.99 9.54393 L1356.99 34.2544 Q1359.66 30.163 1363.27 28.1376 Q1366.91 26.1121 1371.65 26.1121 Q1379.47 26.1121 1383.48 30.9732 Q1387.49 35.7938 1387.49 45.1919 Z\" fill=\"#000000\" fill-rule=\"nonzero\" fill-opacity=\"1\" /><path clip-path=\"url(#clip140)\" d=\"M1441.17 48.0275 L1441.17 51.6733 L1406.89 51.6733 Q1407.38 59.3701 1411.51 63.421 Q1415.69 67.4314 1423.1 67.4314 Q1427.39 67.4314 1431.4 66.3781 Q1435.45 65.3249 1439.42 63.2184 L1439.42 70.267 Q1435.41 71.9684 1431.2 72.8596 Q1426.99 73.7508 1422.65 73.7508 Q1411.8 73.7508 1405.44 67.4314 Q1399.12 61.1119 1399.12 50.3365 Q1399.12 39.1965 1405.11 32.6746 Q1411.15 26.1121 1421.36 26.1121 Q1430.51 26.1121 1435.82 32.0264 Q1441.17 37.9003 1441.17 48.0275 M1433.71 45.84 Q1433.63 39.7232 1430.27 36.0774 Q1426.95 32.4315 1421.44 32.4315 Q1415.2 32.4315 1411.43 35.9558 Q1407.71 39.4801 1407.14 45.8805 L1433.71 45.84 Z\" fill=\"#000000\" fill-rule=\"nonzero\" fill-opacity=\"1\" /><path clip-path=\"url(#clip140)\" d=\"M1453.4 27.2059 L1460.85 27.2059 L1460.85 72.576 L1453.4 72.576 L1453.4 27.2059 M1453.4 9.54393 L1460.85 9.54393 L1460.85 18.9825 L1453.4 18.9825 L1453.4 9.54393 Z\" fill=\"#000000\" fill-rule=\"nonzero\" fill-opacity=\"1\" /><path clip-path=\"url(#clip140)\" d=\"M1502.74 34.1734 Q1501.48 33.4443 1499.98 33.1202 Q1498.53 32.7556 1496.74 32.7556 Q1490.42 32.7556 1487.02 36.8875 Q1483.66 40.9789 1483.66 48.6757 L1483.66 72.576 L1476.17 72.576 L1476.17 27.2059 L1483.66 27.2059 L1483.66 34.2544 Q1486.01 30.1225 1489.78 28.1376 Q1493.54 26.1121 1498.93 26.1121 Q1499.7 26.1121 1500.63 26.2337 Q1501.56 26.3147 1502.7 26.5172 L1502.74 34.1734 Z\" fill=\"#000000\" fill-rule=\"nonzero\" fill-opacity=\"1\" /><path clip-path=\"url(#clip140)\" d=\"M1573.51 14.0809 L1573.51 22.0612 Q1568.85 19.8332 1564.72 18.7395 Q1560.59 17.6457 1556.74 17.6457 Q1550.05 17.6457 1546.41 20.2383 Q1542.8 22.8309 1542.8 27.611 Q1542.8 31.6214 1545.19 33.6873 Q1547.62 35.7128 1554.35 36.9686 L1559.29 37.9813 Q1568.44 39.7232 1572.78 44.1387 Q1577.15 48.5136 1577.15 55.8863 Q1577.15 64.6767 1571.24 69.2137 Q1565.37 73.7508 1553.98 73.7508 Q1549.69 73.7508 1544.83 72.7785 Q1540.01 71.8063 1534.82 69.9024 L1534.82 61.4765 Q1539.81 64.2716 1544.59 65.6895 Q1549.37 67.1073 1553.98 67.1073 Q1560.99 67.1073 1564.8 64.3527 Q1568.61 61.598 1568.61 56.4939 Q1568.61 52.0379 1565.85 49.5264 Q1563.14 47.0148 1556.9 45.759 L1551.92 44.7868 Q1542.76 42.9639 1538.67 39.075 Q1534.58 35.1862 1534.58 28.2591 Q1534.58 20.2383 1540.21 15.6203 Q1545.88 11.0023 1555.81 11.0023 Q1560.06 11.0023 1564.48 11.7719 Q1568.89 12.5416 1573.51 14.0809 Z\" fill=\"#000000\" fill-rule=\"nonzero\" fill-opacity=\"1\" /><path clip-path=\"url(#clip140)\" d=\"M1594.05 49.9314 Q1594.05 58.1548 1597.41 62.8538 Q1600.81 67.5124 1606.73 67.5124 Q1612.64 67.5124 1616.04 62.8538 Q1619.45 58.1548 1619.45 49.9314 Q1619.45 41.7081 1616.04 37.0496 Q1612.64 32.3505 1606.73 32.3505 Q1600.81 32.3505 1597.41 37.0496 Q1594.05 41.7081 1594.05 49.9314 M1619.45 65.7705 Q1617.1 69.8214 1613.49 71.8063 Q1609.93 73.7508 1604.9 73.7508 Q1596.68 73.7508 1591.49 67.1883 Q1586.35 60.6258 1586.35 49.9314 Q1586.35 39.2371 1591.49 32.6746 Q1596.68 26.1121 1604.9 26.1121 Q1609.93 26.1121 1613.49 28.0971 Q1617.1 30.0415 1619.45 34.0924 L1619.45 27.2059 L1626.9 27.2059 L1626.9 89.8329 L1619.45 89.8329 L1619.45 65.7705 Z\" fill=\"#000000\" fill-rule=\"nonzero\" fill-opacity=\"1\" /><path clip-path=\"url(#clip140)\" d=\"M1662.87 49.7694 Q1653.84 49.7694 1650.35 51.8354 Q1646.87 53.9013 1646.87 58.8839 Q1646.87 62.8538 1649.46 65.2034 Q1652.1 67.5124 1656.59 67.5124 Q1662.79 67.5124 1666.52 63.1374 Q1670.28 58.7219 1670.28 51.4303 L1670.28 49.7694 L1662.87 49.7694 M1677.74 46.6907 L1677.74 72.576 L1670.28 72.576 L1670.28 65.6895 Q1667.73 69.8214 1663.92 71.8063 Q1660.12 73.7508 1654.61 73.7508 Q1647.64 73.7508 1643.51 69.8619 Q1639.42 65.9325 1639.42 59.3701 Q1639.42 51.7138 1644.52 47.825 Q1649.67 43.9361 1659.83 43.9361 L1670.28 43.9361 L1670.28 43.2069 Q1670.28 38.0623 1666.88 35.2672 Q1663.52 32.4315 1657.4 32.4315 Q1653.51 32.4315 1649.83 33.3632 Q1646.14 34.295 1642.74 36.1584 L1642.74 29.2718 Q1646.83 27.692 1650.68 26.9223 Q1654.53 26.1121 1658.17 26.1121 Q1668.02 26.1121 1672.88 31.2163 Q1677.74 36.3204 1677.74 46.6907 Z\" fill=\"#000000\" fill-rule=\"nonzero\" fill-opacity=\"1\" /><path clip-path=\"url(#clip140)\" d=\"M1719.38 34.1734 Q1718.13 33.4443 1716.63 33.1202 Q1715.17 32.7556 1713.39 32.7556 Q1707.07 32.7556 1703.66 36.8875 Q1700.3 40.9789 1700.3 48.6757 L1700.3 72.576 L1692.81 72.576 L1692.81 27.2059 L1700.3 27.2059 L1700.3 34.2544 Q1702.65 30.1225 1706.42 28.1376 Q1710.19 26.1121 1715.57 26.1121 Q1716.34 26.1121 1717.28 26.2337 Q1718.21 26.3147 1719.34 26.5172 L1719.38 34.1734 Z\" fill=\"#000000\" fill-rule=\"nonzero\" fill-opacity=\"1\" /><path clip-path=\"url(#clip140)\" d=\"M1764.18 48.0275 L1764.18 51.6733 L1729.91 51.6733 Q1730.4 59.3701 1734.53 63.421 Q1738.7 67.4314 1746.12 67.4314 Q1750.41 67.4314 1754.42 66.3781 Q1758.47 65.3249 1762.44 63.2184 L1762.44 70.267 Q1758.43 71.9684 1754.22 72.8596 Q1750.01 73.7508 1745.67 73.7508 Q1734.82 73.7508 1728.46 67.4314 Q1722.14 61.1119 1722.14 50.3365 Q1722.14 39.1965 1728.13 32.6746 Q1734.17 26.1121 1744.38 26.1121 Q1753.53 26.1121 1758.84 32.0264 Q1764.18 37.9003 1764.18 48.0275 M1756.73 45.84 Q1756.65 39.7232 1753.29 36.0774 Q1749.97 32.4315 1744.46 32.4315 Q1738.22 32.4315 1734.45 35.9558 Q1730.72 39.4801 1730.16 45.8805 L1756.73 45.84 Z\" fill=\"#000000\" fill-rule=\"nonzero\" fill-opacity=\"1\" /><path clip-path=\"url(#clip140)\" d=\"M1805.34 28.5427 L1805.34 35.5912 Q1802.18 33.9709 1798.78 33.1607 Q1795.38 32.3505 1791.73 32.3505 Q1786.18 32.3505 1783.39 34.0519 Q1780.63 35.7533 1780.63 39.156 Q1780.63 41.7486 1782.62 43.2475 Q1784.6 44.7058 1790.6 46.0426 L1793.15 46.6097 Q1801.09 48.3111 1804.41 51.4303 Q1807.77 54.509 1807.77 60.0587 Q1807.77 66.3781 1802.75 70.0644 Q1797.77 73.7508 1789.02 73.7508 Q1785.37 73.7508 1781.4 73.0216 Q1777.47 72.3329 1773.1 70.9151 L1773.1 63.2184 Q1777.23 65.3654 1781.24 66.4591 Q1785.25 67.5124 1789.18 67.5124 Q1794.44 67.5124 1797.28 65.73 Q1800.12 63.9071 1800.12 60.6258 Q1800.12 57.5877 1798.05 55.9673 Q1796.02 54.3469 1789.1 52.8481 L1786.51 52.2405 Q1779.58 50.7821 1776.5 47.7845 Q1773.42 44.7463 1773.42 39.4801 Q1773.42 33.0797 1777.96 29.5959 Q1782.49 26.1121 1790.84 26.1121 Q1794.97 26.1121 1798.62 26.7198 Q1802.26 27.3274 1805.34 28.5427 Z\" fill=\"#000000\" fill-rule=\"nonzero\" fill-opacity=\"1\" /><polyline clip-path=\"url(#clip142)\" style=\"stroke:#009af9; stroke-linecap:round; stroke-linejoin:round; stroke-width:4; stroke-opacity:1; fill:none\" points=\"264.778,160.256 467.495,601.666 670.211,944.985 872.927,1190.21 1075.64,1337.35 1278.36,1386.4 1481.08,1337.35 1683.79,1190.21 1886.51,944.985 2089.22,601.666 2291.94,160.256 \"/>\n",
              "<path clip-path=\"url(#clip140)\" d=\"M2013.82 1379.86 L2281.13 1379.86 L2281.13 1276.18 L2013.82 1276.18  Z\" fill=\"#ffffff\" fill-rule=\"evenodd\" fill-opacity=\"1\"/>\n",
              "<polyline clip-path=\"url(#clip140)\" style=\"stroke:#000000; stroke-linecap:round; stroke-linejoin:round; stroke-width:4; stroke-opacity:1; fill:none\" points=\"2013.82,1379.86 2281.13,1379.86 2281.13,1276.18 2013.82,1276.18 2013.82,1379.86 \"/>\n",
              "<polyline clip-path=\"url(#clip140)\" style=\"stroke:#009af9; stroke-linecap:round; stroke-linejoin:round; stroke-width:4; stroke-opacity:1; fill:none\" points=\"2037.7,1328.02 2180.95,1328.02 \"/>\n",
              "<path clip-path=\"url(#clip140)\" d=\"M2218.67 1347.7 Q2216.86 1352.33 2215.15 1353.75 Q2213.43 1355.16 2210.56 1355.16 L2207.16 1355.16 L2207.16 1351.59 L2209.66 1351.59 Q2211.42 1351.59 2212.39 1350.76 Q2213.37 1349.93 2214.55 1346.82 L2215.31 1344.88 L2204.82 1319.37 L2209.34 1319.37 L2217.44 1339.65 L2225.54 1319.37 L2230.06 1319.37 L2218.67 1347.7 Z\" fill=\"#000000\" fill-rule=\"nonzero\" fill-opacity=\"1\" /><path clip-path=\"url(#clip140)\" d=\"M2237.35 1341.36 L2244.99 1341.36 L2244.99 1315 L2236.68 1316.66 L2236.68 1312.4 L2244.94 1310.74 L2249.62 1310.74 L2249.62 1341.36 L2257.25 1341.36 L2257.25 1345.3 L2237.35 1345.3 L2237.35 1341.36 Z\" fill=\"#000000\" fill-rule=\"nonzero\" fill-opacity=\"1\" /></svg>\n"
            ]
          },
          "metadata": {},
          "output_type": "display_data"
        }
      ],
      "source": [
        "plot(l,squares)\n",
        "xlabel!(\"Integers\")\n",
        "ylabel!(\"Squares\")\n",
        "title!(\"Integers and Their Sqares\")\n"
      ]
    },
    {
      "cell_type": "markdown",
      "id": "eaca6031-e691-4019-9986-e7127b3df842",
      "metadata": {},
      "source": [
        "## Commit and Push Your Changes to GitHub\n",
        "\n",
        "After completing the previous two exercises, commit your solution file\n",
        "(notebook or otherwise) and push to GitHub. Use an informative commit\n",
        "message which makes it clear what changes you’ve made. The specific\n",
        "workflow for this will vary depending on how you’re writing up your\n",
        "solutions; please search for specifics and ask for help as needed!\n",
        "\n",
        "> **Useful Commit Sizes**\n",
        ">\n",
        "> Ideally, you’d commit whenever you make a “substantial” enough change\n",
        "> that you want to lock in, such as writing the core code for a problem\n",
        "> or completing a problem, if you’re preparing code to be used elsewhere\n",
        "> (by yourself or others), or if you want to ask for help. `git` lets\n",
        "> you revert changes back to a previous commit, so it’s easy to undo\n",
        "> changes or updates which broke something that was previously working,\n",
        "> so changing too many things at once can make it hard to keep track of\n",
        "> what worked when.\n",
        ">\n",
        "> But in this case, go ahead and just commit after finishing the\n",
        "> problems.\n",
        "\n",
        "Push the repository with these commits to GitHub and take a screenshot\n",
        "of the repository page\n",
        "(`https://github.com/BEE4750-FA24/<username>/lab01`) which shows the\n",
        "updated repository. Include that screenshot in your submission as the\n",
        "solution to this problem.\n",
        "\n",
        "## Submitting PDF\n",
        "\n",
        "> **Important**\n",
        ">\n",
        "> These submission instructions will not be repeated on future\n",
        "> assignments!\n",
        "\n",
        "Export your writeup as a PDF and submit it to the “Lab 1” assignment on\n",
        "Gradescope. Make sure that you tag pages corresponding to relevant\n",
        "problems to avoid a 10% penalty.\n",
        "\n",
        "> **Printing Code to PDF**\n",
        ">\n",
        "> You are not required to submit your code when submitting assignments.\n",
        "> However, when printing a notebook to PDF, long lines will run off the\n",
        "> edge of code cells, which may result in comments or code being hidden.\n",
        "> If you see this, go back to the notebook and break up long lines into\n",
        "> shorter onces (for example, see the comment in the above code cell) to\n",
        "> ensure key parts of your results aren’t missing."
      ]
    }
  ],
  "metadata": {
    "kernel_info": {
      "name": "julia"
    },
    "kernelspec": {
      "display_name": "Julia 1.10.5",
      "language": "julia",
      "name": "julia-1.10"
    },
    "language_info": {
      "file_extension": ".jl",
      "mimetype": "application/julia",
      "name": "julia",
      "version": "1.10.5"
    }
  },
  "nbformat": 4,
  "nbformat_minor": 5
}
